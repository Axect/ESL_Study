{
 "cells": [
  {
   "cell_type": "markdown",
   "id": "latest-czech",
   "metadata": {},
   "source": [
    "# Simple OLS"
   ]
  },
  {
   "cell_type": "markdown",
   "id": "junior-reverse",
   "metadata": {},
   "source": [
    "## Import"
   ]
  },
  {
   "cell_type": "code",
   "execution_count": 1,
   "id": "rapid-bahrain",
   "metadata": {},
   "outputs": [],
   "source": [
    "import numpy as np\n",
    "import statsmodels.api as sm\n",
    "import matplotlib.pyplot as plt\n",
    "import scipy.stats as ss"
   ]
  },
  {
   "cell_type": "markdown",
   "id": "announced-course",
   "metadata": {},
   "source": [
    "## Data Generation"
   ]
  },
  {
   "cell_type": "code",
   "execution_count": 2,
   "id": "corporate-candle",
   "metadata": {},
   "outputs": [],
   "source": [
    "# Data Generation\n",
    "np.random.seed(42) # Fix Random\n",
    "x = np.arange(1, 5, 0.1)\n",
    "eps = np.random.randn(len(x))\n",
    "y = 2 * x + 3 + eps"
   ]
  },
  {
   "cell_type": "code",
   "execution_count": 3,
   "id": "productive-recipe",
   "metadata": {},
   "outputs": [
    {
     "data": {
      "text/plain": [
       "<matplotlib.collections.PathCollection at 0x7fb726ca9e20>"
      ]
     },
     "execution_count": 3,
     "metadata": {},
     "output_type": "execute_result"
    },
    {
     "data": {
      "image/png": "[encoded data removed]",
      "text/plain": [
       "<Figure size 432x288 with 1 Axes>"
      ]
     },
     "metadata": {
      "needs_background": "light"
     },
     "output_type": "display_data"
    }
   ],
   "source": [
    "plt.scatter(x, y)"
   ]
  },
  {
   "cell_type": "code",
   "execution_count": 4,
   "id": "reasonable-recycling",
   "metadata": {},
   "outputs": [],
   "source": [
    "# Data to Matrix\n",
    "X = np.matrix(x).T\n",
    "X = sm.add_constant(X)\n",
    "Y = np.matrix(y).T"
   ]
  },
  {
   "cell_type": "code",
   "execution_count": 5,
   "id": "aquatic-discipline",
   "metadata": {},
   "outputs": [
    {
     "data": {
      "text/plain": [
       "(40, 2)"
      ]
     },
     "execution_count": 5,
     "metadata": {},
     "output_type": "execute_result"
    }
   ],
   "source": [
    "X.shape"
   ]
  },
  {
   "cell_type": "code",
   "execution_count": 6,
   "id": "boolean-wyoming",
   "metadata": {},
   "outputs": [
    {
     "data": {
      "text/plain": [
       "(40, 1)"
      ]
     },
     "execution_count": 6,
     "metadata": {},
     "output_type": "execute_result"
    }
   ],
   "source": [
    "Y.shape"
   ]
  },
  {
   "cell_type": "markdown",
   "id": "magnetic-village",
   "metadata": {},
   "source": [
    "## Estimate Procedure"
   ]
  },
  {
   "cell_type": "code",
   "execution_count": 7,
   "id": "incoming-brush",
   "metadata": {},
   "outputs": [],
   "source": [
    "def find_beta_hat(X, Y):\n",
    "    #return np.linalg.inv(X.T * X) * X.T * Y\n",
    "    if np.linalg.det(X.T * X) == 0:\n",
    "        print(\"Singular!\")\n",
    "    return np.linalg.pinv(X) * Y"
   ]
  },
  {
   "cell_type": "code",
   "execution_count": 8,
   "id": "immediate-fruit",
   "metadata": {},
   "outputs": [],
   "source": [
    "beta = find_beta_hat(X, Y)"
   ]
  },
  {
   "cell_type": "code",
   "execution_count": 9,
   "id": "invalid-trinidad",
   "metadata": {},
   "outputs": [
    {
     "data": {
      "text/plain": [
       "matrix([[3.3835158 ],\n",
       "        [1.79588046]])"
      ]
     },
     "execution_count": 9,
     "metadata": {},
     "output_type": "execute_result"
    }
   ],
   "source": [
    "beta"
   ]
  },
  {
   "cell_type": "code",
   "execution_count": 10,
   "id": "partial-morocco",
   "metadata": {},
   "outputs": [],
   "source": [
    "def find_y_hat(X, beta):\n",
    "    return X * beta"
   ]
  },
  {
   "cell_type": "code",
   "execution_count": 11,
   "id": "sharing-constant",
   "metadata": {},
   "outputs": [],
   "source": [
    "Y_hat = find_y_hat(X, beta)"
   ]
  },
  {
   "cell_type": "code",
   "execution_count": 12,
   "id": "molecular-learning",
   "metadata": {},
   "outputs": [
    {
     "data": {
      "text/plain": [
       "(40, 1)"
      ]
     },
     "execution_count": 12,
     "metadata": {},
     "output_type": "execute_result"
    }
   ],
   "source": [
    "Y_hat.shape"
   ]
  },
  {
   "cell_type": "code",
   "execution_count": 13,
   "id": "interracial-belgium",
   "metadata": {},
   "outputs": [
    {
     "data": {
      "text/plain": [
       "array([ 5.17939626,  5.35898431,  5.53857236,  5.7181604 ,  5.89774845,\n",
       "        6.07733649,  6.25692454,  6.43651259,  6.61610063,  6.79568868,\n",
       "        6.97527672,  7.15486477,  7.33445282,  7.51404086,  7.69362891,\n",
       "        7.87321695,  8.052805  ,  8.23239305,  8.41198109,  8.59156914,\n",
       "        8.77115718,  8.95074523,  9.13033328,  9.30992132,  9.48950937,\n",
       "        9.66909742,  9.84868546, 10.02827351, 10.20786155, 10.3874496 ,\n",
       "       10.56703765, 10.74662569, 10.92621374, 11.10580178, 11.28538983,\n",
       "       11.46497788, 11.64456592, 11.82415397, 12.00374201, 12.18333006])"
      ]
     },
     "execution_count": 13,
     "metadata": {},
     "output_type": "execute_result"
    }
   ],
   "source": [
    "y_hat = np.asarray(Y_hat).ravel()\n",
    "y_hat"
   ]
  },
  {
   "cell_type": "code",
   "execution_count": 14,
   "id": "amended-notebook",
   "metadata": {},
   "outputs": [],
   "source": [
    "plt.rc('text', usetex=True)\n",
    "plt.rc('font', family='serif')"
   ]
  },
  {
   "cell_type": "code",
   "execution_count": 15,
   "id": "assured-optimum",
   "metadata": {
    "scrolled": false
   },
   "outputs": [
    {
     "data": {
      "image/png": "[encoded data removed]",
      "text/plain": [
       "<Figure size 1200x720 with 1 Axes>"
      ]
     },
     "metadata": {
      "needs_background": "light"
     },
     "output_type": "display_data"
    }
   ],
   "source": [
    "plt.figure(figsize=(10, 6), dpi=120)\n",
    "plt.scatter(x, y, color='b', label=r\"$y = 2x + 3 +\\varepsilon$\")\n",
    "plt.plot(x, y_hat, color='r', label=r\"fit\")\n",
    "plt.legend()\n",
    "plt.grid()\n",
    "plt.xlabel(r\"$x$\")\n",
    "plt.ylabel(r\"$y$\")\n",
    "plt.show()"
   ]
  },
  {
   "cell_type": "markdown",
   "id": "deluxe-worst",
   "metadata": {},
   "source": [
    "## t-test from scratch"
   ]
  },
  {
   "cell_type": "markdown",
   "id": "5e9bb5f0",
   "metadata": {},
   "source": [
    "$$RSS = \\sum_{i=1}^N (y_i - \\hat{y}_i)^2$$\n",
    "$$\\hat{\\sigma}^2 = \\sum_{i=1}^N (y_i - \\hat{y}_i)^2 / (N-p-1)$$\n",
    "$$t_j = \\hat{\\beta}_j / (\\hat{\\sigma} \\sqrt{v_j}),\\quad v_j = (X^TX)^{-1}_{jj}$$"
   ]
  },
  {
   "cell_type": "code",
   "execution_count": 16,
   "id": "14c55523",
   "metadata": {},
   "outputs": [],
   "source": [
    "def calc_rss(y, y_hat):\n",
    "    return np.sum((y - y_hat) ** 2)"
   ]
  },
  {
   "cell_type": "code",
   "execution_count": 17,
   "id": "56094587",
   "metadata": {},
   "outputs": [],
   "source": [
    "def find_sigma_hat(y, y_hat, p):\n",
    "    return calc_rss(y, y_hat) / (len(y) - p -1)"
   ]
  },
  {
   "cell_type": "code",
   "execution_count": 18,
   "id": "f866b06e",
   "metadata": {},
   "outputs": [],
   "source": [
    "def calc_t_score(beta, X, sigma_square):\n",
    "    v = np.sqrt(np.diag(np.linalg.inv(X.T * X)))\n",
    "    return (beta / v) / np.sqrt(sigma_square)"
   ]
  },
  {
   "cell_type": "code",
   "execution_count": 19,
   "id": "edbf9d0e",
   "metadata": {},
   "outputs": [],
   "source": [
    "def calc_p_value(d, z):           # d: Distribution\n",
    "    if z >= 0:\n",
    "        return (1 - d.cdf(z)) * 2 # cdf(t) = p(x < t)\n",
    "    else:\n",
    "        return d.cdf(z) * 2"
   ]
  },
  {
   "cell_type": "markdown",
   "id": "26d01f63",
   "metadata": {},
   "source": [
    "## Implementation with OOP"
   ]
  },
  {
   "cell_type": "markdown",
   "id": "f0432a3f",
   "metadata": {},
   "source": [
    "### What is OOP?"
   ]
  },
  {
   "cell_type": "code",
   "execution_count": 20,
   "id": "46d69f16",
   "metadata": {},
   "outputs": [],
   "source": [
    "# OOP : Object-Oriented-Programming\n",
    "\n",
    "class Person:\n",
    "    def __init__(self, name, age):\n",
    "        self.name = name\n",
    "        self.age = age\n",
    "        \n",
    "    def double_age(self):\n",
    "        return self.age * 2"
   ]
  },
  {
   "cell_type": "code",
   "execution_count": 21,
   "id": "3e02ff5e",
   "metadata": {},
   "outputs": [],
   "source": [
    "chulsoo = Person(\"철수\", 20)"
   ]
  },
  {
   "cell_type": "code",
   "execution_count": 22,
   "id": "7699e3b4",
   "metadata": {},
   "outputs": [
    {
     "data": {
      "text/plain": [
       "'철수'"
      ]
     },
     "execution_count": 22,
     "metadata": {},
     "output_type": "execute_result"
    }
   ],
   "source": [
    "chulsoo.name"
   ]
  },
  {
   "cell_type": "code",
   "execution_count": 23,
   "id": "4d3b110d",
   "metadata": {},
   "outputs": [
    {
     "data": {
      "text/plain": [
       "40"
      ]
     },
     "execution_count": 23,
     "metadata": {},
     "output_type": "execute_result"
    }
   ],
   "source": [
    "chulsoo.double_age()"
   ]
  },
  {
   "cell_type": "code",
   "execution_count": 24,
   "id": "4aaa83bc",
   "metadata": {},
   "outputs": [],
   "source": [
    "# Inheritance (상속)\n",
    "class Animal:\n",
    "    def bark(self):\n",
    "        print(\"I'm animal!\")\n",
    "        \n",
    "class Dog(Animal):\n",
    "    def bark(self):\n",
    "        print(\"I'm dog!\")\n",
    "        \n",
    "class Bird(Animal):\n",
    "    def bark(self):\n",
    "        print(\"I'm bird!\")\n",
    "        \n",
    "class Cat(Animal):\n",
    "    def bark(self):\n",
    "        super().bark()"
   ]
  },
  {
   "cell_type": "code",
   "execution_count": 25,
   "id": "70ac952b",
   "metadata": {},
   "outputs": [
    {
     "name": "stdout",
     "output_type": "stream",
     "text": [
      "I'm animal!\n",
      "I'm dog!\n",
      "I'm bird!\n",
      "I'm animal!\n"
     ]
    }
   ],
   "source": [
    "a = Animal()\n",
    "b = Dog()\n",
    "c = Bird()\n",
    "d = Cat()\n",
    "\n",
    "a.bark()\n",
    "b.bark()\n",
    "c.bark()\n",
    "d.bark()"
   ]
  },
  {
   "cell_type": "code",
   "execution_count": 26,
   "id": "30ff3e8c",
   "metadata": {},
   "outputs": [],
   "source": [
    "class OLSEstimator:\n",
    "    def __init__(self, X, Y):\n",
    "        self.X = X\n",
    "        self.Y = Y\n",
    "        self.y = np.asarray(self.Y).ravel()\n",
    "        self.N = Y.shape[0]\n",
    "        self.p = X.shape[1] - 1\n",
    "        \n",
    "    def estimate(self):\n",
    "        self.beta_hat = find_beta_hat(self.X, self.Y)\n",
    "        self.Y_hat = find_y_hat(self.X, self.beta_hat)\n",
    "        self.y_hat = np.asarray(self.Y_hat).ravel()\n",
    "        print(\"Estimate Success!\")\n",
    "        \n",
    "    def test(self):\n",
    "        self.rss = calc_rss(self.y, self.y_hat)\n",
    "        self.sigma_hat = find_sigma_hat(self.y, self.y_hat, self.p)\n",
    "        self.t_score = calc_t_score(np.asarray(self.beta_hat).ravel(), self.X, self.sigma_hat)\n",
    "        \n",
    "        t_dist = ss.t(df=self.N-self.p-1)\n",
    "        \n",
    "        p_fun = lambda t: calc_p_value(t_dist, t)\n",
    "        p_vec = np.vectorize(p_fun)\n",
    "        \n",
    "        self.p_value = p_vec(self.t_score)\n",
    "        \n",
    "        print(\"Test Success!\")\n",
    "        \n",
    "    def f_test(self, other): # self.f_test(other)\n",
    "        if self.p >= other.p:\n",
    "            rss_0 = other.rss\n",
    "            rss_1 = self.rss\n",
    "            p_0 = other.p\n",
    "            p_1 = self.p\n",
    "            N = self.N\n",
    "            \n",
    "            f_score = ((rss_0 - rss_1) / (p_1 - p_0)) / (rss_1 / (N - p_1 - 1))\n",
    "            \n",
    "            f_dist = ss.f(p_1-p_0, N - p_1 - 1)\n",
    "            \n",
    "            p_value = calc_p_value(f_dist, f_score)\n",
    "            \n",
    "            return (f_score, p_value)\n",
    "        else:\n",
    "            return other.f_test(self)\n",
    "        \n",
    "    def summary(self):\n",
    "        print(\"N: \", self.N)\n",
    "        print(\"p: \", self.p)\n",
    "        print(\"beta: \", np.asarray(self.beta_hat).ravel())\n",
    "        print(\"rss: \", self.rss)\n",
    "        print(\"t_score: \", self.t_score)\n",
    "        print(\"p_value: \", self.p_value)\n",
    "    \n",
    "    def plot(self):\n",
    "        x = np.asarray(self.X[:, 1]).ravel()\n",
    "        y = self.y\n",
    "        y_hat = self.y_hat\n",
    "        \n",
    "        plt.figure(figsize=(10, 6), dpi=120)\n",
    "        plt.scatter(x, y, label=\"data\")\n",
    "        plt.plot(x, y_hat, color='r', label=\"fit\")\n",
    "        plt.legend()\n",
    "        plt.grid()\n",
    "        plt.show()\n",
    "    "
   ]
  },
  {
   "cell_type": "markdown",
   "id": "994549b0",
   "metadata": {},
   "source": [
    "### Vectorize?"
   ]
  },
  {
   "cell_type": "code",
   "execution_count": 27,
   "id": "1ea39dfc",
   "metadata": {},
   "outputs": [],
   "source": [
    "def f(x):\n",
    "    if x >= 0:\n",
    "        return x**2\n",
    "    else:\n",
    "        return x"
   ]
  },
  {
   "cell_type": "code",
   "execution_count": 28,
   "id": "2ebb43e6",
   "metadata": {},
   "outputs": [],
   "source": [
    "f_vec = np.vectorize(f)"
   ]
  },
  {
   "cell_type": "code",
   "execution_count": 29,
   "id": "2326ff57",
   "metadata": {},
   "outputs": [
    {
     "data": {
      "text/plain": [
       "array([ 1.  ,  1.21,  1.44,  1.69,  1.96,  2.25,  2.56,  2.89,  3.24,\n",
       "        3.61,  4.  ,  4.41,  4.84,  5.29,  5.76,  6.25,  6.76,  7.29,\n",
       "        7.84,  8.41,  9.  ,  9.61, 10.24, 10.89, 11.56, 12.25, 12.96,\n",
       "       13.69, 14.44, 15.21, 16.  , 16.81, 17.64, 18.49, 19.36, 20.25,\n",
       "       21.16, 22.09, 23.04, 24.01])"
      ]
     },
     "execution_count": 29,
     "metadata": {},
     "output_type": "execute_result"
    }
   ],
   "source": [
    "f_vec(x)"
   ]
  },
  {
   "cell_type": "markdown",
   "id": "4db74610",
   "metadata": {},
   "source": [
    "### OLS with OLSEstimator"
   ]
  },
  {
   "cell_type": "code",
   "execution_count": 30,
   "id": "32ed3b2d",
   "metadata": {},
   "outputs": [],
   "source": [
    "ols = OLSEstimator(X, Y)"
   ]
  },
  {
   "cell_type": "code",
   "execution_count": 31,
   "id": "8a1d6b1d",
   "metadata": {},
   "outputs": [
    {
     "name": "stdout",
     "output_type": "stream",
     "text": [
      "Estimate Success!\n",
      "Test Success!\n"
     ]
    }
   ],
   "source": [
    "ols.estimate()\n",
    "ols.test()"
   ]
  },
  {
   "cell_type": "code",
   "execution_count": 32,
   "id": "e7bfc2cb",
   "metadata": {},
   "outputs": [
    {
     "name": "stdout",
     "output_type": "stream",
     "text": [
      "N:  40\n",
      "p:  1\n",
      "beta:  [3.3835158  1.79588046]\n",
      "rss:  33.185220129278996\n",
      "t_score:  [ 8.34435115 14.03009064]\n",
      "p_value:  [4.04864142e-10 0.00000000e+00]\n"
     ]
    }
   ],
   "source": [
    "ols.summary()"
   ]
  },
  {
   "cell_type": "code",
   "execution_count": 33,
   "id": "793adfc5",
   "metadata": {},
   "outputs": [
    {
     "data": {
      "image/png": "[encoded data removed]",
      "text/plain": [
       "<Figure size 1200x720 with 1 Axes>"
      ]
     },
     "metadata": {
      "needs_background": "light"
     },
     "output_type": "display_data"
    }
   ],
   "source": [
    "ols.plot()"
   ]
  },
  {
   "cell_type": "markdown",
   "id": "84dc889c",
   "metadata": {},
   "source": [
    "### F-test between two models"
   ]
  },
  {
   "cell_type": "markdown",
   "id": "b1bf89fe",
   "metadata": {},
   "source": [
    "$$y = 2x^2 + 3x + 5 + \\varepsilon$$\n",
    "\n",
    "* First model\n",
    "$$y = \\beta_0 + \\beta_1 x$$\n",
    "\n",
    "* Second model\n",
    "$$y = \\beta_0 + \\beta_1 x + \\beta_2 x^2$$"
   ]
  },
  {
   "cell_type": "code",
   "execution_count": 34,
   "id": "7dd84141",
   "metadata": {},
   "outputs": [],
   "source": [
    "x1 = np.arange(1, 5, 0.1)\n",
    "x2 = x1 ** 2\n",
    "y = -2 * x2 + 3 * x1 + 5 + np.random.randn(len(x1))\n",
    "\n",
    "X1 = np.matrix(x1).T\n",
    "X1 = sm.add_constant(X1)\n",
    "Y = np.matrix(y).T\n",
    "\n",
    "X2 = np.matrix(np.column_stack((x1, x2)))\n",
    "X2 = sm.add_constant(X2)"
   ]
  },
  {
   "cell_type": "code",
   "execution_count": 35,
   "id": "31494f87",
   "metadata": {},
   "outputs": [],
   "source": [
    "ols_1 = OLSEstimator(X1, Y)\n",
    "ols_2 = OLSEstimator(X2, Y)"
   ]
  },
  {
   "cell_type": "code",
   "execution_count": 36,
   "id": "8523549a",
   "metadata": {},
   "outputs": [
    {
     "name": "stdout",
     "output_type": "stream",
     "text": [
      "Estimate Success!\n",
      "Test Success!\n"
     ]
    }
   ],
   "source": [
    "ols_1.estimate(); ols_1.test()"
   ]
  },
  {
   "cell_type": "code",
   "execution_count": 37,
   "id": "d8f1540a",
   "metadata": {},
   "outputs": [
    {
     "name": "stdout",
     "output_type": "stream",
     "text": [
      "Estimate Success!\n",
      "Test Success!\n"
     ]
    }
   ],
   "source": [
    "ols_2.estimate(); ols_2.test()"
   ]
  },
  {
   "cell_type": "code",
   "execution_count": 38,
   "id": "d4c4663e",
   "metadata": {},
   "outputs": [
    {
     "name": "stdout",
     "output_type": "stream",
     "text": [
      "N:  40\n",
      "p:  1\n",
      "beta:  [19.6655516 -8.7846085]\n",
      "rss:  292.551593331763\n",
      "t_score:  [ 16.33434082 -23.11407829]\n",
      "p_value:  [0.00000000e+00 5.55837384e-24]\n"
     ]
    }
   ],
   "source": [
    "ols_1.summary()"
   ]
  },
  {
   "cell_type": "code",
   "execution_count": 39,
   "id": "43e4d0b0",
   "metadata": {},
   "outputs": [
    {
     "name": "stdout",
     "output_type": "stream",
     "text": [
      "N:  40\n",
      "p:  2\n",
      "beta:  [ 3.96974824  3.78055294 -2.12968838]\n",
      "rss:  35.33382890000898\n",
      "t_score:  [  3.79459818   4.864132   -16.4117915 ]\n",
      "p_value:  [5.31098218e-04 2.14491253e-05 1.43919948e-18]\n"
     ]
    }
   ],
   "source": [
    "ols_2.summary()"
   ]
  },
  {
   "cell_type": "code",
   "execution_count": 40,
   "id": "807f8c0e",
   "metadata": {},
   "outputs": [
    {
     "data": {
      "text/plain": [
       "(269.346900130953, 2.220446049250313e-16)"
      ]
     },
     "execution_count": 40,
     "metadata": {},
     "output_type": "execute_result"
    }
   ],
   "source": [
    "ols_1.f_test(ols_2)"
   ]
  },
  {
   "cell_type": "code",
   "execution_count": 41,
   "id": "34b29211",
   "metadata": {},
   "outputs": [
    {
     "data": {
      "image/png": "[encoded data removed]",
      "text/plain": [
       "<Figure size 1200x720 with 1 Axes>"
      ]
     },
     "metadata": {
      "needs_background": "light"
     },
     "output_type": "display_data"
    }
   ],
   "source": [
    "ols_1.plot()"
   ]
  },
  {
   "cell_type": "code",
   "execution_count": 42,
   "id": "fe01a961",
   "metadata": {},
   "outputs": [
    {
     "data": {
      "image/png": "[encoded data removed]",
      "text/plain": [
       "<Figure size 1200x720 with 1 Axes>"
      ]
     },
     "metadata": {
      "needs_background": "light"
     },
     "output_type": "display_data"
    }
   ],
   "source": [
    "ols_2.plot()"
   ]
  },
  {
   "cell_type": "markdown",
   "id": "quick-employment",
   "metadata": {},
   "source": [
    "## t-test from statsmodels"
   ]
  },
  {
   "cell_type": "code",
   "execution_count": 43,
   "id": "billion-sharing",
   "metadata": {},
   "outputs": [],
   "source": [
    "model = sm.OLS(Y, X).fit()"
   ]
  },
  {
   "cell_type": "code",
   "execution_count": 44,
   "id": "assigned-genius",
   "metadata": {},
   "outputs": [
    {
     "data": {
      "text/html": [
       "<table class=\"simpletable\">\n",
       "<caption>OLS Regression Results</caption>\n",
       "<tr>\n",
       "  <th>Dep. Variable:</th>            <td>y</td>        <th>  R-squared:         </th> <td>   0.934</td>\n",
       "</tr>\n",
       "<tr>\n",
       "  <th>Model:</th>                   <td>OLS</td>       <th>  Adj. R-squared:    </th> <td>   0.932</td>\n",
       "</tr>\n",
       "<tr>\n",
       "  <th>Method:</th>             <td>Least Squares</td>  <th>  F-statistic:       </th> <td>   534.3</td>\n",
       "</tr>\n",
       "<tr>\n",
       "  <th>Date:</th>             <td>Mon, 03 May 2021</td> <th>  Prob (F-statistic):</th> <td>5.56e-24</td>\n",
       "</tr>\n",
       "<tr>\n",
       "  <th>Time:</th>                 <td>20:57:50</td>     <th>  Log-Likelihood:    </th> <td> -96.553</td>\n",
       "</tr>\n",
       "<tr>\n",
       "  <th>No. Observations:</th>      <td>    40</td>      <th>  AIC:               </th> <td>   197.1</td>\n",
       "</tr>\n",
       "<tr>\n",
       "  <th>Df Residuals:</th>          <td>    38</td>      <th>  BIC:               </th> <td>   200.5</td>\n",
       "</tr>\n",
       "<tr>\n",
       "  <th>Df Model:</th>              <td>     1</td>      <th>                     </th>     <td> </td>   \n",
       "</tr>\n",
       "<tr>\n",
       "  <th>Covariance Type:</th>      <td>nonrobust</td>    <th>                     </th>     <td> </td>   \n",
       "</tr>\n",
       "</table>\n",
       "<table class=\"simpletable\">\n",
       "<tr>\n",
       "    <td></td>       <th>coef</th>     <th>std err</th>      <th>t</th>      <th>P>|t|</th>  <th>[0.025</th>    <th>0.975]</th>  \n",
       "</tr>\n",
       "<tr>\n",
       "  <th>const</th> <td>   19.6656</td> <td>    1.204</td> <td>   16.334</td> <td> 0.000</td> <td>   17.228</td> <td>   22.103</td>\n",
       "</tr>\n",
       "<tr>\n",
       "  <th>x1</th>    <td>   -8.7846</td> <td>    0.380</td> <td>  -23.114</td> <td> 0.000</td> <td>   -9.554</td> <td>   -8.015</td>\n",
       "</tr>\n",
       "</table>\n",
       "<table class=\"simpletable\">\n",
       "<tr>\n",
       "  <th>Omnibus:</th>       <td> 3.881</td> <th>  Durbin-Watson:     </th> <td>   0.289</td>\n",
       "</tr>\n",
       "<tr>\n",
       "  <th>Prob(Omnibus):</th> <td> 0.144</td> <th>  Jarque-Bera (JB):  </th> <td>   3.451</td>\n",
       "</tr>\n",
       "<tr>\n",
       "  <th>Skew:</th>          <td>-0.639</td> <th>  Prob(JB):          </th> <td>   0.178</td>\n",
       "</tr>\n",
       "<tr>\n",
       "  <th>Kurtosis:</th>      <td> 2.339</td> <th>  Cond. No.          </th> <td>    9.45</td>\n",
       "</tr>\n",
       "</table><br/><br/>Notes:<br/>[1] Standard Errors assume that the covariance matrix of the errors is correctly specified."
      ],
      "text/plain": [
       "<class 'statsmodels.iolib.summary.Summary'>\n",
       "\"\"\"\n",
       "                            OLS Regression Results                            \n",
       "==============================================================================\n",
       "Dep. Variable:                      y   R-squared:                       0.934\n",
       "Model:                            OLS   Adj. R-squared:                  0.932\n",
       "Method:                 Least Squares   F-statistic:                     534.3\n",
       "Date:                Mon, 03 May 2021   Prob (F-statistic):           5.56e-24\n",
       "Time:                        20:57:50   Log-Likelihood:                -96.553\n",
       "No. Observations:                  40   AIC:                             197.1\n",
       "Df Residuals:                      38   BIC:                             200.5\n",
       "Df Model:                           1                                         \n",
       "Covariance Type:            nonrobust                                         \n",
       "==============================================================================\n",
       "                 coef    std err          t      P>|t|      [0.025      0.975]\n",
       "------------------------------------------------------------------------------\n",
       "const         19.6656      1.204     16.334      0.000      17.228      22.103\n",
       "x1            -8.7846      0.380    -23.114      0.000      -9.554      -8.015\n",
       "==============================================================================\n",
       "Omnibus:                        3.881   Durbin-Watson:                   0.289\n",
       "Prob(Omnibus):                  0.144   Jarque-Bera (JB):                3.451\n",
       "Skew:                          -0.639   Prob(JB):                        0.178\n",
       "Kurtosis:                       2.339   Cond. No.                         9.45\n",
       "==============================================================================\n",
       "\n",
       "Notes:\n",
       "[1] Standard Errors assume that the covariance matrix of the errors is correctly specified.\n",
       "\"\"\""
      ]
     },
     "execution_count": 44,
     "metadata": {},
     "output_type": "execute_result"
    }
   ],
   "source": [
    "model.summary()"
   ]
  },
  {
   "cell_type": "code",
   "execution_count": 45,
   "id": "organic-million",
   "metadata": {},
   "outputs": [],
   "source": [
    "y_hat = model.predict()"
   ]
  },
  {
   "cell_type": "code",
   "execution_count": 46,
   "id": "valued-redhead",
   "metadata": {},
   "outputs": [
    {
     "data": {
      "text/plain": [
       "array([ 10.8809431 ,  10.00248225,   9.1240214 ,   8.24556055,\n",
       "         7.3670997 ,   6.48863885,   5.610178  ,   4.73171715,\n",
       "         3.85325631,   2.97479546,   2.09633461,   1.21787376,\n",
       "         0.33941291,  -0.53904794,  -1.41750879,  -2.29596964,\n",
       "        -3.17443049,  -4.05289134,  -4.93135219,  -5.80981304,\n",
       "        -6.68827389,  -7.56673474,  -8.44519559,  -9.32365644,\n",
       "       -10.20211729, -11.08057814, -11.95903899, -12.83749984,\n",
       "       -13.71596069, -14.59442154, -15.47288239, -16.35134323,\n",
       "       -17.22980408, -18.10826493, -18.98672578, -19.86518663,\n",
       "       -20.74364748, -21.62210833, -22.50056918, -23.37903003])"
      ]
     },
     "execution_count": 46,
     "metadata": {},
     "output_type": "execute_result"
    }
   ],
   "source": [
    "y_hat"
   ]
  },
  {
   "cell_type": "code",
   "execution_count": 47,
   "id": "entire-austria",
   "metadata": {},
   "outputs": [
    {
     "data": {
      "text/plain": [
       "[<matplotlib.lines.Line2D at 0x7fb71ea29a60>]"
      ]
     },
     "execution_count": 47,
     "metadata": {},
     "output_type": "execute_result"
    },
    {
     "data": {
      "image/png": "[encoded data removed]",
      "text/plain": [
       "<Figure size 432x288 with 1 Axes>"
      ]
     },
     "metadata": {
      "needs_background": "light"
     },
     "output_type": "display_data"
    }
   ],
   "source": [
    "plt.scatter(x,y)\n",
    "plt.plot(x, y_hat)"
   ]
  },
  {
   "cell_type": "code",
   "execution_count": 48,
   "id": "d5df007e",
   "metadata": {},
   "outputs": [],
   "source": [
    "model_1 = sm.OLS(Y, X1).fit()"
   ]
  },
  {
   "cell_type": "code",
   "execution_count": 49,
   "id": "1c01b91f",
   "metadata": {},
   "outputs": [
    {
     "data": {
      "text/html": [
       "<table class=\"simpletable\">\n",
       "<caption>OLS Regression Results</caption>\n",
       "<tr>\n",
       "  <th>Dep. Variable:</th>            <td>y</td>        <th>  R-squared:         </th> <td>   0.934</td>\n",
       "</tr>\n",
       "<tr>\n",
       "  <th>Model:</th>                   <td>OLS</td>       <th>  Adj. R-squared:    </th> <td>   0.932</td>\n",
       "</tr>\n",
       "<tr>\n",
       "  <th>Method:</th>             <td>Least Squares</td>  <th>  F-statistic:       </th> <td>   534.3</td>\n",
       "</tr>\n",
       "<tr>\n",
       "  <th>Date:</th>             <td>Mon, 03 May 2021</td> <th>  Prob (F-statistic):</th> <td>5.56e-24</td>\n",
       "</tr>\n",
       "<tr>\n",
       "  <th>Time:</th>                 <td>20:57:50</td>     <th>  Log-Likelihood:    </th> <td> -96.553</td>\n",
       "</tr>\n",
       "<tr>\n",
       "  <th>No. Observations:</th>      <td>    40</td>      <th>  AIC:               </th> <td>   197.1</td>\n",
       "</tr>\n",
       "<tr>\n",
       "  <th>Df Residuals:</th>          <td>    38</td>      <th>  BIC:               </th> <td>   200.5</td>\n",
       "</tr>\n",
       "<tr>\n",
       "  <th>Df Model:</th>              <td>     1</td>      <th>                     </th>     <td> </td>   \n",
       "</tr>\n",
       "<tr>\n",
       "  <th>Covariance Type:</th>      <td>nonrobust</td>    <th>                     </th>     <td> </td>   \n",
       "</tr>\n",
       "</table>\n",
       "<table class=\"simpletable\">\n",
       "<tr>\n",
       "    <td></td>       <th>coef</th>     <th>std err</th>      <th>t</th>      <th>P>|t|</th>  <th>[0.025</th>    <th>0.975]</th>  \n",
       "</tr>\n",
       "<tr>\n",
       "  <th>const</th> <td>   19.6656</td> <td>    1.204</td> <td>   16.334</td> <td> 0.000</td> <td>   17.228</td> <td>   22.103</td>\n",
       "</tr>\n",
       "<tr>\n",
       "  <th>x1</th>    <td>   -8.7846</td> <td>    0.380</td> <td>  -23.114</td> <td> 0.000</td> <td>   -9.554</td> <td>   -8.015</td>\n",
       "</tr>\n",
       "</table>\n",
       "<table class=\"simpletable\">\n",
       "<tr>\n",
       "  <th>Omnibus:</th>       <td> 3.881</td> <th>  Durbin-Watson:     </th> <td>   0.289</td>\n",
       "</tr>\n",
       "<tr>\n",
       "  <th>Prob(Omnibus):</th> <td> 0.144</td> <th>  Jarque-Bera (JB):  </th> <td>   3.451</td>\n",
       "</tr>\n",
       "<tr>\n",
       "  <th>Skew:</th>          <td>-0.639</td> <th>  Prob(JB):          </th> <td>   0.178</td>\n",
       "</tr>\n",
       "<tr>\n",
       "  <th>Kurtosis:</th>      <td> 2.339</td> <th>  Cond. No.          </th> <td>    9.45</td>\n",
       "</tr>\n",
       "</table><br/><br/>Notes:<br/>[1] Standard Errors assume that the covariance matrix of the errors is correctly specified."
      ],
      "text/plain": [
       "<class 'statsmodels.iolib.summary.Summary'>\n",
       "\"\"\"\n",
       "                            OLS Regression Results                            \n",
       "==============================================================================\n",
       "Dep. Variable:                      y   R-squared:                       0.934\n",
       "Model:                            OLS   Adj. R-squared:                  0.932\n",
       "Method:                 Least Squares   F-statistic:                     534.3\n",
       "Date:                Mon, 03 May 2021   Prob (F-statistic):           5.56e-24\n",
       "Time:                        20:57:50   Log-Likelihood:                -96.553\n",
       "No. Observations:                  40   AIC:                             197.1\n",
       "Df Residuals:                      38   BIC:                             200.5\n",
       "Df Model:                           1                                         \n",
       "Covariance Type:            nonrobust                                         \n",
       "==============================================================================\n",
       "                 coef    std err          t      P>|t|      [0.025      0.975]\n",
       "------------------------------------------------------------------------------\n",
       "const         19.6656      1.204     16.334      0.000      17.228      22.103\n",
       "x1            -8.7846      0.380    -23.114      0.000      -9.554      -8.015\n",
       "==============================================================================\n",
       "Omnibus:                        3.881   Durbin-Watson:                   0.289\n",
       "Prob(Omnibus):                  0.144   Jarque-Bera (JB):                3.451\n",
       "Skew:                          -0.639   Prob(JB):                        0.178\n",
       "Kurtosis:                       2.339   Cond. No.                         9.45\n",
       "==============================================================================\n",
       "\n",
       "Notes:\n",
       "[1] Standard Errors assume that the covariance matrix of the errors is correctly specified.\n",
       "\"\"\""
      ]
     },
     "execution_count": 49,
     "metadata": {},
     "output_type": "execute_result"
    }
   ],
   "source": [
    "model_1.summary()"
   ]
  },
  {
   "cell_type": "code",
   "execution_count": 50,
   "id": "c0869bd7",
   "metadata": {},
   "outputs": [],
   "source": [
    "model_2 = sm.OLS(Y, X2).fit()"
   ]
  },
  {
   "cell_type": "code",
   "execution_count": 51,
   "id": "fa45f4c0",
   "metadata": {},
   "outputs": [
    {
     "data": {
      "text/html": [
       "<table class=\"simpletable\">\n",
       "<caption>OLS Regression Results</caption>\n",
       "<tr>\n",
       "  <th>Dep. Variable:</th>            <td>y</td>        <th>  R-squared:         </th> <td>   0.992</td>\n",
       "</tr>\n",
       "<tr>\n",
       "  <th>Model:</th>                   <td>OLS</td>       <th>  Adj. R-squared:    </th> <td>   0.992</td>\n",
       "</tr>\n",
       "<tr>\n",
       "  <th>Method:</th>             <td>Least Squares</td>  <th>  F-statistic:       </th> <td>   2288.</td>\n",
       "</tr>\n",
       "<tr>\n",
       "  <th>Date:</th>             <td>Mon, 03 May 2021</td> <th>  Prob (F-statistic):</th> <td>1.69e-39</td>\n",
       "</tr>\n",
       "<tr>\n",
       "  <th>Time:</th>                 <td>20:57:50</td>     <th>  Log-Likelihood:    </th> <td> -54.277</td>\n",
       "</tr>\n",
       "<tr>\n",
       "  <th>No. Observations:</th>      <td>    40</td>      <th>  AIC:               </th> <td>   114.6</td>\n",
       "</tr>\n",
       "<tr>\n",
       "  <th>Df Residuals:</th>          <td>    37</td>      <th>  BIC:               </th> <td>   119.6</td>\n",
       "</tr>\n",
       "<tr>\n",
       "  <th>Df Model:</th>              <td>     2</td>      <th>                     </th>     <td> </td>   \n",
       "</tr>\n",
       "<tr>\n",
       "  <th>Covariance Type:</th>      <td>nonrobust</td>    <th>                     </th>     <td> </td>   \n",
       "</tr>\n",
       "</table>\n",
       "<table class=\"simpletable\">\n",
       "<tr>\n",
       "    <td></td>       <th>coef</th>     <th>std err</th>      <th>t</th>      <th>P>|t|</th>  <th>[0.025</th>    <th>0.975]</th>  \n",
       "</tr>\n",
       "<tr>\n",
       "  <th>const</th> <td>    3.9697</td> <td>    1.046</td> <td>    3.795</td> <td> 0.001</td> <td>    1.850</td> <td>    6.089</td>\n",
       "</tr>\n",
       "<tr>\n",
       "  <th>x1</th>    <td>    3.7806</td> <td>    0.777</td> <td>    4.864</td> <td> 0.000</td> <td>    2.206</td> <td>    5.355</td>\n",
       "</tr>\n",
       "<tr>\n",
       "  <th>x2</th>    <td>   -2.1297</td> <td>    0.130</td> <td>  -16.412</td> <td> 0.000</td> <td>   -2.393</td> <td>   -1.867</td>\n",
       "</tr>\n",
       "</table>\n",
       "<table class=\"simpletable\">\n",
       "<tr>\n",
       "  <th>Omnibus:</th>       <td> 2.201</td> <th>  Durbin-Watson:     </th> <td>   2.112</td>\n",
       "</tr>\n",
       "<tr>\n",
       "  <th>Prob(Omnibus):</th> <td> 0.333</td> <th>  Jarque-Bera (JB):  </th> <td>   1.823</td>\n",
       "</tr>\n",
       "<tr>\n",
       "  <th>Skew:</th>          <td>-0.518</td> <th>  Prob(JB):          </th> <td>   0.402</td>\n",
       "</tr>\n",
       "<tr>\n",
       "  <th>Kurtosis:</th>      <td> 2.859</td> <th>  Cond. No.          </th> <td>    106.</td>\n",
       "</tr>\n",
       "</table><br/><br/>Notes:<br/>[1] Standard Errors assume that the covariance matrix of the errors is correctly specified."
      ],
      "text/plain": [
       "<class 'statsmodels.iolib.summary.Summary'>\n",
       "\"\"\"\n",
       "                            OLS Regression Results                            \n",
       "==============================================================================\n",
       "Dep. Variable:                      y   R-squared:                       0.992\n",
       "Model:                            OLS   Adj. R-squared:                  0.992\n",
       "Method:                 Least Squares   F-statistic:                     2288.\n",
       "Date:                Mon, 03 May 2021   Prob (F-statistic):           1.69e-39\n",
       "Time:                        20:57:50   Log-Likelihood:                -54.277\n",
       "No. Observations:                  40   AIC:                             114.6\n",
       "Df Residuals:                      37   BIC:                             119.6\n",
       "Df Model:                           2                                         \n",
       "Covariance Type:            nonrobust                                         \n",
       "==============================================================================\n",
       "                 coef    std err          t      P>|t|      [0.025      0.975]\n",
       "------------------------------------------------------------------------------\n",
       "const          3.9697      1.046      3.795      0.001       1.850       6.089\n",
       "x1             3.7806      0.777      4.864      0.000       2.206       5.355\n",
       "x2            -2.1297      0.130    -16.412      0.000      -2.393      -1.867\n",
       "==============================================================================\n",
       "Omnibus:                        2.201   Durbin-Watson:                   2.112\n",
       "Prob(Omnibus):                  0.333   Jarque-Bera (JB):                1.823\n",
       "Skew:                          -0.518   Prob(JB):                        0.402\n",
       "Kurtosis:                       2.859   Cond. No.                         106.\n",
       "==============================================================================\n",
       "\n",
       "Notes:\n",
       "[1] Standard Errors assume that the covariance matrix of the errors is correctly specified.\n",
       "\"\"\""
      ]
     },
     "execution_count": 51,
     "metadata": {},
     "output_type": "execute_result"
    }
   ],
   "source": [
    "model_2.summary()"
   ]
  },
  {
   "cell_type": "code",
   "execution_count": null,
   "id": "d5bd5801",
   "metadata": {},
   "outputs": [],
   "source": []
  }
 ],
 "metadata": {
  "kernelspec": {
   "display_name": "Python 3",
   "language": "python",
   "name": "python3"
  },
  "language_info": {
   "codemirror_mode": {
    "name": "ipython",
    "version": 3
   },
   "file_extension": ".py",
   "mimetype": "text/x-python",
   "name": "python",
   "nbconvert_exporter": "python",
   "pygments_lexer": "ipython3",
   "version": "3.9.5"
  }
 },
 "nbformat": 4,
 "nbformat_minor": 5
}
