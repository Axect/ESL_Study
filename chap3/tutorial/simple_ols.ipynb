{
 "cells": [
  {
   "cell_type": "markdown",
   "id": "latest-czech",
   "metadata": {},
   "source": [
    "# Simple OLS"
   ]
  },
  {
   "cell_type": "markdown",
   "id": "junior-reverse",
   "metadata": {},
   "source": [
    "## Import"
   ]
  },
  {
   "cell_type": "code",
   "execution_count": 1,
   "id": "rapid-bahrain",
   "metadata": {},
   "outputs": [],
   "source": [
    "import numpy as np\n",
    "import statsmodels.api as sm\n",
    "import matplotlib.pyplot as plt\n",
    "import scipy.stats as ss"
   ]
  },
  {
   "cell_type": "markdown",
   "id": "announced-course",
   "metadata": {},
   "source": [
    "## Data Generation"
   ]
  },
  {
   "cell_type": "code",
   "execution_count": 2,
   "id": "corporate-candle",
   "metadata": {},
   "outputs": [],
   "source": [
    "# Data Generation\n",
    "np.random.seed(42) # Fix Random\n",
    "x = np.arange(1, 5, 0.1)\n",
    "eps = np.random.randn(len(x))\n",
    "y = 2 * x + 3 + eps"
   ]
  },
  {
   "cell_type": "code",
   "execution_count": 3,
   "id": "productive-recipe",
   "metadata": {},
   "outputs": [
    {
     "data": {
      "text/plain": [
       "<matplotlib.collections.PathCollection at 0x7f92a71f7c70>"
      ]
     },
     "execution_count": 3,
     "metadata": {},
     "output_type": "execute_result"
    },
    {
     "data": {
      "image/png": "[encoded data removed]",
      "text/plain": [
       "<Figure size 432x288 with 1 Axes>"
      ]
     },
     "metadata": {
      "needs_background": "light"
     },
     "output_type": "display_data"
    }
   ],
   "source": [
    "plt.scatter(x, y)"
   ]
  },
  {
   "cell_type": "code",
   "execution_count": 4,
   "id": "reasonable-recycling",
   "metadata": {},
   "outputs": [],
   "source": [
    "# Data to Matrix\n",
    "X = np.matrix(x).T\n",
    "X = sm.add_constant(X)\n",
    "Y = np.matrix(y).T"
   ]
  },
  {
   "cell_type": "code",
   "execution_count": 5,
   "id": "aquatic-discipline",
   "metadata": {},
   "outputs": [
    {
     "data": {
      "text/plain": [
       "(40, 2)"
      ]
     },
     "execution_count": 5,
     "metadata": {},
     "output_type": "execute_result"
    }
   ],
   "source": [
    "X.shape"
   ]
  },
  {
   "cell_type": "code",
   "execution_count": 6,
   "id": "boolean-wyoming",
   "metadata": {},
   "outputs": [
    {
     "data": {
      "text/plain": [
       "(40, 1)"
      ]
     },
     "execution_count": 6,
     "metadata": {},
     "output_type": "execute_result"
    }
   ],
   "source": [
    "Y.shape"
   ]
  },
  {
   "cell_type": "markdown",
   "id": "magnetic-village",
   "metadata": {},
   "source": [
    "## Estimate Procedure"
   ]
  },
  {
   "cell_type": "code",
   "execution_count": 7,
   "id": "incoming-brush",
   "metadata": {},
   "outputs": [],
   "source": [
    "def find_beta_hat(X, Y):\n",
    "    #return np.linalg.inv(X.T * X) * X.T * Y\n",
    "    if np.linalg.det(X.T * X) == 0:\n",
    "        print(\"Singular!\")\n",
    "    return np.linalg.pinv(X) * Y"
   ]
  },
  {
   "cell_type": "code",
   "execution_count": 8,
   "id": "immediate-fruit",
   "metadata": {},
   "outputs": [],
   "source": [
    "beta = find_beta_hat(X, Y)"
   ]
  },
  {
   "cell_type": "code",
   "execution_count": 9,
   "id": "invalid-trinidad",
   "metadata": {},
   "outputs": [
    {
     "data": {
      "text/plain": [
       "matrix([[3.3835158 ],\n",
       "        [1.79588046]])"
      ]
     },
     "execution_count": 9,
     "metadata": {},
     "output_type": "execute_result"
    }
   ],
   "source": [
    "beta"
   ]
  },
  {
   "cell_type": "code",
   "execution_count": 10,
   "id": "partial-morocco",
   "metadata": {},
   "outputs": [],
   "source": [
    "def find_y_hat(X, beta):\n",
    "    return X * beta"
   ]
  },
  {
   "cell_type": "code",
   "execution_count": 11,
   "id": "sharing-constant",
   "metadata": {},
   "outputs": [],
   "source": [
    "Y_hat = find_y_hat(X, beta)"
   ]
  },
  {
   "cell_type": "code",
   "execution_count": 12,
   "id": "molecular-learning",
   "metadata": {},
   "outputs": [
    {
     "data": {
      "text/plain": [
       "(40, 1)"
      ]
     },
     "execution_count": 12,
     "metadata": {},
     "output_type": "execute_result"
    }
   ],
   "source": [
    "Y_hat.shape"
   ]
  },
  {
   "cell_type": "code",
   "execution_count": 13,
   "id": "interracial-belgium",
   "metadata": {},
   "outputs": [
    {
     "data": {
      "text/plain": [
       "array([ 5.17939626,  5.35898431,  5.53857236,  5.7181604 ,  5.89774845,\n",
       "        6.07733649,  6.25692454,  6.43651259,  6.61610063,  6.79568868,\n",
       "        6.97527672,  7.15486477,  7.33445282,  7.51404086,  7.69362891,\n",
       "        7.87321695,  8.052805  ,  8.23239305,  8.41198109,  8.59156914,\n",
       "        8.77115718,  8.95074523,  9.13033328,  9.30992132,  9.48950937,\n",
       "        9.66909742,  9.84868546, 10.02827351, 10.20786155, 10.3874496 ,\n",
       "       10.56703765, 10.74662569, 10.92621374, 11.10580178, 11.28538983,\n",
       "       11.46497788, 11.64456592, 11.82415397, 12.00374201, 12.18333006])"
      ]
     },
     "execution_count": 13,
     "metadata": {},
     "output_type": "execute_result"
    }
   ],
   "source": [
    "y_hat = np.asarray(Y_hat).ravel()\n",
    "y_hat"
   ]
  },
  {
   "cell_type": "code",
   "execution_count": 14,
   "id": "amended-notebook",
   "metadata": {},
   "outputs": [],
   "source": [
    "plt.rc('text', usetex=True)\n",
    "plt.rc('font', family='serif')"
   ]
  },
  {
   "cell_type": "code",
   "execution_count": 15,
   "id": "assured-optimum",
   "metadata": {
    "scrolled": false
   },
   "outputs": [
    {
     "data": {
      "image/png": "[encoded data removed]",
      "text/plain": [
       "<Figure size 1200x720 with 1 Axes>"
      ]
     },
     "metadata": {
      "needs_background": "light"
     },
     "output_type": "display_data"
    }
   ],
   "source": [
    "plt.figure(figsize=(10, 6), dpi=120)\n",
    "plt.scatter(x, y, color='b', label=r\"$y = 2x + 3 +\\varepsilon$\")\n",
    "plt.plot(x, y_hat, color='r', label=r\"fit\")\n",
    "plt.legend()\n",
    "plt.grid()\n",
    "plt.xlabel(r\"$x$\")\n",
    "plt.ylabel(r\"$y$\")\n",
    "plt.show()"
   ]
  },
  {
   "cell_type": "markdown",
   "id": "deluxe-worst",
   "metadata": {},
   "source": [
    "## t-test from scratch"
   ]
  },
  {
   "cell_type": "code",
   "execution_count": 16,
   "id": "fifth-action",
   "metadata": {},
   "outputs": [],
   "source": [
    "# t-test\n",
    "N = len(x)\n",
    "p = 1\n",
    "\n",
    "t_dist = ss.t(df=N-p-1) # Generate t-distribution with Degree of Freedom = N-p-1"
   ]
  },
  {
   "cell_type": "code",
   "execution_count": 17,
   "id": "reverse-wedding",
   "metadata": {},
   "outputs": [],
   "source": [
    "sigma_hat = np.sum((y - y_hat)**2) / (N-p-1) # sigma^2"
   ]
  },
  {
   "cell_type": "code",
   "execution_count": 18,
   "id": "integral-austin",
   "metadata": {},
   "outputs": [
    {
     "data": {
      "text/plain": [
       "0.8732952665599736"
      ]
     },
     "execution_count": 18,
     "metadata": {},
     "output_type": "execute_result"
    }
   ],
   "source": [
    "sigma_hat "
   ]
  },
  {
   "cell_type": "code",
   "execution_count": 19,
   "id": "chemical-singles",
   "metadata": {},
   "outputs": [],
   "source": [
    "v = np.diag(np.linalg.inv(X.T * X))"
   ]
  },
  {
   "cell_type": "code",
   "execution_count": 20,
   "id": "perfect-bacon",
   "metadata": {},
   "outputs": [],
   "source": [
    "b = np.asarray(beta).ravel()"
   ]
  },
  {
   "cell_type": "code",
   "execution_count": 21,
   "id": "affected-arizona",
   "metadata": {},
   "outputs": [],
   "source": [
    "z = b / (np.sqrt(sigma_hat * v)) # t_score!"
   ]
  },
  {
   "cell_type": "code",
   "execution_count": 22,
   "id": "apparent-locator",
   "metadata": {},
   "outputs": [
    {
     "data": {
      "text/plain": [
       "array([ 8.34435115, 14.03009064])"
      ]
     },
     "execution_count": 22,
     "metadata": {},
     "output_type": "execute_result"
    }
   ],
   "source": [
    "z"
   ]
  },
  {
   "cell_type": "code",
   "execution_count": 23,
   "id": "worthy-cheat",
   "metadata": {},
   "outputs": [],
   "source": [
    "def calc_p_value(d, t):       # d: Distribution\n",
    "    return (1 - d.cdf(t)) * 2 # cdf(t) = p(x < t)"
   ]
  },
  {
   "cell_type": "code",
   "execution_count": 24,
   "id": "induced-brave",
   "metadata": {},
   "outputs": [
    {
     "data": {
      "text/plain": [
       "array([4.04864142e-10, 0.00000000e+00])"
      ]
     },
     "execution_count": 24,
     "metadata": {},
     "output_type": "execute_result"
    }
   ],
   "source": [
    "calc_p_value(t_dist, z)"
   ]
  },
  {
   "cell_type": "markdown",
   "id": "quick-employment",
   "metadata": {},
   "source": [
    "## t-test from statsmodels"
   ]
  },
  {
   "cell_type": "code",
   "execution_count": 25,
   "id": "billion-sharing",
   "metadata": {},
   "outputs": [],
   "source": [
    "model = sm.OLS(Y, X).fit()"
   ]
  },
  {
   "cell_type": "code",
   "execution_count": 26,
   "id": "assigned-genius",
   "metadata": {},
   "outputs": [
    {
     "data": {
      "text/html": [
       "<table class=\"simpletable\">\n",
       "<caption>OLS Regression Results</caption>\n",
       "<tr>\n",
       "  <th>Dep. Variable:</th>            <td>y</td>        <th>  R-squared:         </th> <td>   0.838</td>\n",
       "</tr>\n",
       "<tr>\n",
       "  <th>Model:</th>                   <td>OLS</td>       <th>  Adj. R-squared:    </th> <td>   0.834</td>\n",
       "</tr>\n",
       "<tr>\n",
       "  <th>Method:</th>             <td>Least Squares</td>  <th>  F-statistic:       </th> <td>   196.8</td>\n",
       "</tr>\n",
       "<tr>\n",
       "  <th>Date:</th>             <td>Mon, 26 Apr 2021</td> <th>  Prob (F-statistic):</th> <td>1.31e-16</td>\n",
       "</tr>\n",
       "<tr>\n",
       "  <th>Time:</th>                 <td>19:40:25</td>     <th>  Log-Likelihood:    </th> <td> -53.022</td>\n",
       "</tr>\n",
       "<tr>\n",
       "  <th>No. Observations:</th>      <td>    40</td>      <th>  AIC:               </th> <td>   110.0</td>\n",
       "</tr>\n",
       "<tr>\n",
       "  <th>Df Residuals:</th>          <td>    38</td>      <th>  BIC:               </th> <td>   113.4</td>\n",
       "</tr>\n",
       "<tr>\n",
       "  <th>Df Model:</th>              <td>     1</td>      <th>                     </th>     <td> </td>   \n",
       "</tr>\n",
       "<tr>\n",
       "  <th>Covariance Type:</th>      <td>nonrobust</td>    <th>                     </th>     <td> </td>   \n",
       "</tr>\n",
       "</table>\n",
       "<table class=\"simpletable\">\n",
       "<tr>\n",
       "    <td></td>       <th>coef</th>     <th>std err</th>      <th>t</th>      <th>P>|t|</th>  <th>[0.025</th>    <th>0.975]</th>  \n",
       "</tr>\n",
       "<tr>\n",
       "  <th>const</th> <td>    3.3835</td> <td>    0.405</td> <td>    8.344</td> <td> 0.000</td> <td>    2.563</td> <td>    4.204</td>\n",
       "</tr>\n",
       "<tr>\n",
       "  <th>x1</th>    <td>    1.7959</td> <td>    0.128</td> <td>   14.030</td> <td> 0.000</td> <td>    1.537</td> <td>    2.055</td>\n",
       "</tr>\n",
       "</table>\n",
       "<table class=\"simpletable\">\n",
       "<tr>\n",
       "  <th>Omnibus:</th>       <td> 0.817</td> <th>  Durbin-Watson:     </th> <td>   2.114</td>\n",
       "</tr>\n",
       "<tr>\n",
       "  <th>Prob(Omnibus):</th> <td> 0.665</td> <th>  Jarque-Bera (JB):  </th> <td>   0.661</td>\n",
       "</tr>\n",
       "<tr>\n",
       "  <th>Skew:</th>          <td> 0.304</td> <th>  Prob(JB):          </th> <td>   0.719</td>\n",
       "</tr>\n",
       "<tr>\n",
       "  <th>Kurtosis:</th>      <td> 2.839</td> <th>  Cond. No.          </th> <td>    9.45</td>\n",
       "</tr>\n",
       "</table><br/><br/>Notes:<br/>[1] Standard Errors assume that the covariance matrix of the errors is correctly specified."
      ],
      "text/plain": [
       "<class 'statsmodels.iolib.summary.Summary'>\n",
       "\"\"\"\n",
       "                            OLS Regression Results                            \n",
       "==============================================================================\n",
       "Dep. Variable:                      y   R-squared:                       0.838\n",
       "Model:                            OLS   Adj. R-squared:                  0.834\n",
       "Method:                 Least Squares   F-statistic:                     196.8\n",
       "Date:                Mon, 26 Apr 2021   Prob (F-statistic):           1.31e-16\n",
       "Time:                        19:40:25   Log-Likelihood:                -53.022\n",
       "No. Observations:                  40   AIC:                             110.0\n",
       "Df Residuals:                      38   BIC:                             113.4\n",
       "Df Model:                           1                                         \n",
       "Covariance Type:            nonrobust                                         \n",
       "==============================================================================\n",
       "                 coef    std err          t      P>|t|      [0.025      0.975]\n",
       "------------------------------------------------------------------------------\n",
       "const          3.3835      0.405      8.344      0.000       2.563       4.204\n",
       "x1             1.7959      0.128     14.030      0.000       1.537       2.055\n",
       "==============================================================================\n",
       "Omnibus:                        0.817   Durbin-Watson:                   2.114\n",
       "Prob(Omnibus):                  0.665   Jarque-Bera (JB):                0.661\n",
       "Skew:                           0.304   Prob(JB):                        0.719\n",
       "Kurtosis:                       2.839   Cond. No.                         9.45\n",
       "==============================================================================\n",
       "\n",
       "Notes:\n",
       "[1] Standard Errors assume that the covariance matrix of the errors is correctly specified.\n",
       "\"\"\""
      ]
     },
     "execution_count": 26,
     "metadata": {},
     "output_type": "execute_result"
    }
   ],
   "source": [
    "model.summary()"
   ]
  },
  {
   "cell_type": "code",
   "execution_count": 27,
   "id": "organic-million",
   "metadata": {},
   "outputs": [],
   "source": [
    "y_hat = model.predict()"
   ]
  },
  {
   "cell_type": "code",
   "execution_count": 28,
   "id": "valued-redhead",
   "metadata": {},
   "outputs": [
    {
     "data": {
      "text/plain": [
       "array([ 5.17939626,  5.35898431,  5.53857236,  5.7181604 ,  5.89774845,\n",
       "        6.07733649,  6.25692454,  6.43651259,  6.61610063,  6.79568868,\n",
       "        6.97527672,  7.15486477,  7.33445282,  7.51404086,  7.69362891,\n",
       "        7.87321695,  8.052805  ,  8.23239305,  8.41198109,  8.59156914,\n",
       "        8.77115718,  8.95074523,  9.13033328,  9.30992132,  9.48950937,\n",
       "        9.66909742,  9.84868546, 10.02827351, 10.20786155, 10.3874496 ,\n",
       "       10.56703765, 10.74662569, 10.92621374, 11.10580178, 11.28538983,\n",
       "       11.46497788, 11.64456592, 11.82415397, 12.00374201, 12.18333006])"
      ]
     },
     "execution_count": 28,
     "metadata": {},
     "output_type": "execute_result"
    }
   ],
   "source": [
    "y_hat"
   ]
  },
  {
   "cell_type": "code",
   "execution_count": 29,
   "id": "entire-austria",
   "metadata": {},
   "outputs": [
    {
     "data": {
      "text/plain": [
       "[<matplotlib.lines.Line2D at 0x7f929ec17c40>]"
      ]
     },
     "execution_count": 29,
     "metadata": {},
     "output_type": "execute_result"
    },
    {
     "data": {
      "image/png": "[encoded data removed]",
      "text/plain": [
       "<Figure size 432x288 with 1 Axes>"
      ]
     },
     "metadata": {
      "needs_background": "light"
     },
     "output_type": "display_data"
    }
   ],
   "source": [
    "plt.scatter(x,y)\n",
    "plt.plot(x, y_hat)"
   ]
  }
 ],
 "metadata": {
  "kernelspec": {
   "display_name": "Python 3",
   "language": "python",
   "name": "python3"
  },
  "language_info": {
   "codemirror_mode": {
    "name": "ipython",
    "version": 3
   },
   "file_extension": ".py",
   "mimetype": "text/x-python",
   "name": "python",
   "nbconvert_exporter": "python",
   "pygments_lexer": "ipython3",
   "version": "3.9.3"
  }
 },
 "nbformat": 4,
 "nbformat_minor": 5
}
