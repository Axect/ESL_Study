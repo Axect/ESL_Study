{
 "cells": [
  {
   "cell_type": "markdown",
   "id": "91c64d61",
   "metadata": {},
   "source": [
    "## Matrix vs NDarray"
   ]
  },
  {
   "cell_type": "code",
   "execution_count": 2,
   "id": "79ef864a",
   "metadata": {},
   "outputs": [],
   "source": [
    "import numpy as np"
   ]
  },
  {
   "cell_type": "code",
   "execution_count": 3,
   "id": "2194ec3d",
   "metadata": {},
   "outputs": [],
   "source": [
    "a = np.matrix(\"1 2;3 4\")"
   ]
  },
  {
   "cell_type": "code",
   "execution_count": 5,
   "id": "abb58d75",
   "metadata": {},
   "outputs": [],
   "source": [
    "b = np.array([[1, 2],[3, 4]])"
   ]
  },
  {
   "cell_type": "code",
   "execution_count": 6,
   "id": "57a2e358",
   "metadata": {},
   "outputs": [
    {
     "data": {
      "text/plain": [
       "matrix([[1, 2],\n",
       "        [3, 4]])"
      ]
     },
     "execution_count": 6,
     "metadata": {},
     "output_type": "execute_result"
    }
   ],
   "source": [
    "a"
   ]
  },
  {
   "cell_type": "code",
   "execution_count": 7,
   "id": "be889bc2",
   "metadata": {},
   "outputs": [
    {
     "data": {
      "text/plain": [
       "array([[1, 2],\n",
       "       [3, 4]])"
      ]
     },
     "execution_count": 7,
     "metadata": {},
     "output_type": "execute_result"
    }
   ],
   "source": [
    "b"
   ]
  },
  {
   "cell_type": "code",
   "execution_count": 8,
   "id": "d03374ef",
   "metadata": {},
   "outputs": [
    {
     "data": {
      "text/plain": [
       "matrix([[ 7, 10],\n",
       "        [15, 22]])"
      ]
     },
     "execution_count": 8,
     "metadata": {},
     "output_type": "execute_result"
    }
   ],
   "source": [
    "a * a"
   ]
  },
  {
   "cell_type": "code",
   "execution_count": 9,
   "id": "ba3c8841",
   "metadata": {},
   "outputs": [
    {
     "data": {
      "text/plain": [
       "array([[ 1,  4],\n",
       "       [ 9, 16]])"
      ]
     },
     "execution_count": 9,
     "metadata": {},
     "output_type": "execute_result"
    }
   ],
   "source": [
    "b * b"
   ]
  },
  {
   "cell_type": "code",
   "execution_count": 10,
   "id": "47db0730",
   "metadata": {},
   "outputs": [
    {
     "data": {
      "text/plain": [
       "array([[ 7, 10],\n",
       "       [15, 22]])"
      ]
     },
     "execution_count": 10,
     "metadata": {},
     "output_type": "execute_result"
    }
   ],
   "source": [
    "b @ b"
   ]
  },
  {
   "cell_type": "markdown",
   "id": "b913d9e6",
   "metadata": {},
   "source": [
    "### 1D Filtering"
   ]
  },
  {
   "cell_type": "code",
   "execution_count": 13,
   "id": "3ee46c3d",
   "metadata": {},
   "outputs": [],
   "source": [
    "c = np.array([1, 2, 3, 4, 5])"
   ]
  },
  {
   "cell_type": "code",
   "execution_count": 14,
   "id": "011cabf0",
   "metadata": {},
   "outputs": [
    {
     "data": {
      "text/plain": [
       "array([1, 2, 3, 4, 5])"
      ]
     },
     "execution_count": 14,
     "metadata": {},
     "output_type": "execute_result"
    }
   ],
   "source": [
    "c"
   ]
  },
  {
   "cell_type": "code",
   "execution_count": 15,
   "id": "499971f5",
   "metadata": {},
   "outputs": [
    {
     "data": {
      "text/plain": [
       "array([False,  True, False,  True, False])"
      ]
     },
     "execution_count": 15,
     "metadata": {},
     "output_type": "execute_result"
    }
   ],
   "source": [
    "c % 2 == 0"
   ]
  },
  {
   "cell_type": "code",
   "execution_count": 16,
   "id": "a6d5ec47",
   "metadata": {},
   "outputs": [
    {
     "data": {
      "text/plain": [
       "array([2, 4])"
      ]
     },
     "execution_count": 16,
     "metadata": {},
     "output_type": "execute_result"
    }
   ],
   "source": [
    "c[c%2 == 0]"
   ]
  },
  {
   "cell_type": "markdown",
   "id": "63fd9f32",
   "metadata": {},
   "source": [
    "### 2D Filtering"
   ]
  },
  {
   "cell_type": "code",
   "execution_count": 52,
   "id": "f910fc2b",
   "metadata": {},
   "outputs": [],
   "source": [
    "a = np.arange(1,9).reshape(4,2,order='F')"
   ]
  },
  {
   "cell_type": "code",
   "execution_count": 53,
   "id": "fb4e55d2",
   "metadata": {},
   "outputs": [
    {
     "data": {
      "text/plain": [
       "array([[1, 5],\n",
       "       [2, 6],\n",
       "       [3, 7],\n",
       "       [4, 8]])"
      ]
     },
     "execution_count": 53,
     "metadata": {},
     "output_type": "execute_result"
    }
   ],
   "source": [
    "a"
   ]
  },
  {
   "cell_type": "markdown",
   "id": "6c9c49a6",
   "metadata": {},
   "source": [
    "Bitwise Logical Operator\n",
    "\n",
    "* `&` : Bitwise and\n",
    "* `|` : Bitwise or\n",
    "* `^` : Bitwise xor"
   ]
  },
  {
   "cell_type": "code",
   "execution_count": 100,
   "id": "081bf461",
   "metadata": {},
   "outputs": [
    {
     "data": {
      "text/plain": [
       "array([[2, 6],\n",
       "       [3, 7]])"
      ]
     },
     "execution_count": 100,
     "metadata": {},
     "output_type": "execute_result"
    }
   ],
   "source": [
    "a[(a[:,0]>=2) & (a[:,0]<=3), :]"
   ]
  },
  {
   "cell_type": "markdown",
   "id": "f65c2032",
   "metadata": {},
   "source": [
    "## Higher Order Function"
   ]
  },
  {
   "cell_type": "code",
   "execution_count": 104,
   "id": "423f1a89",
   "metadata": {},
   "outputs": [],
   "source": [
    "def add_const(a):\n",
    "    \n",
    "    def f(x):\n",
    "        return x + a\n",
    "    \n",
    "    return f"
   ]
  },
  {
   "cell_type": "code",
   "execution_count": 105,
   "id": "6c33dc1c",
   "metadata": {},
   "outputs": [],
   "source": [
    "t = add_const(2)"
   ]
  },
  {
   "cell_type": "code",
   "execution_count": 106,
   "id": "8c0086b6",
   "metadata": {},
   "outputs": [
    {
     "data": {
      "text/plain": [
       "5"
      ]
     },
     "execution_count": 106,
     "metadata": {},
     "output_type": "execute_result"
    }
   ],
   "source": [
    "t(3)"
   ]
  },
  {
   "cell_type": "code",
   "execution_count": 107,
   "id": "e59fc963",
   "metadata": {},
   "outputs": [],
   "source": [
    "def diff(f, x):\n",
    "    h = 1e-6\n",
    "    return (f(x+h)-f(x)) / h"
   ]
  },
  {
   "cell_type": "code",
   "execution_count": 108,
   "id": "dc64ea64",
   "metadata": {},
   "outputs": [
    {
     "data": {
      "text/plain": [
       "-1.0000000001396114"
      ]
     },
     "execution_count": 108,
     "metadata": {},
     "output_type": "execute_result"
    }
   ],
   "source": [
    "diff(np.sin, np.pi)"
   ]
  },
  {
   "cell_type": "code",
   "execution_count": 110,
   "id": "2b9ac772",
   "metadata": {},
   "outputs": [],
   "source": [
    "def deriv(f):\n",
    "    h = 1e-6\n",
    "    \n",
    "    def df(x):\n",
    "        return (f(x+h)-f(x)) / h\n",
    "    \n",
    "    return df"
   ]
  },
  {
   "cell_type": "code",
   "execution_count": 112,
   "id": "2505b6ca",
   "metadata": {},
   "outputs": [],
   "source": [
    "dsin = deriv(np.sin)"
   ]
  },
  {
   "cell_type": "code",
   "execution_count": 113,
   "id": "7beeb4d7",
   "metadata": {},
   "outputs": [
    {
     "data": {
      "text/plain": [
       "-1.0000000001396114"
      ]
     },
     "execution_count": 113,
     "metadata": {},
     "output_type": "execute_result"
    }
   ],
   "source": [
    "dsin(np.pi)"
   ]
  },
  {
   "cell_type": "code",
   "execution_count": 114,
   "id": "52f87901",
   "metadata": {},
   "outputs": [],
   "source": [
    "?np.vectorize"
   ]
  },
  {
   "cell_type": "code",
   "execution_count": 115,
   "id": "9a29d81d",
   "metadata": {},
   "outputs": [],
   "source": [
    "diff_vec = np.vectorize(diff)"
   ]
  },
  {
   "cell_type": "code",
   "execution_count": 116,
   "id": "e6b5be28",
   "metadata": {},
   "outputs": [],
   "source": [
    "dsin_vec = np.vectorize(dsin)"
   ]
  },
  {
   "cell_type": "code",
   "execution_count": 118,
   "id": "a35d67fb",
   "metadata": {},
   "outputs": [],
   "source": [
    "def f(x):\n",
    "    if x < 0:\n",
    "        return -1\n",
    "    else:\n",
    "        return 1"
   ]
  },
  {
   "cell_type": "code",
   "execution_count": 119,
   "id": "b378abd4",
   "metadata": {},
   "outputs": [
    {
     "data": {
      "text/plain": [
       "1"
      ]
     },
     "execution_count": 119,
     "metadata": {},
     "output_type": "execute_result"
    }
   ],
   "source": [
    "f(1)"
   ]
  },
  {
   "cell_type": "code",
   "execution_count": 120,
   "id": "d4aa1ddc",
   "metadata": {},
   "outputs": [
    {
     "ename": "TypeError",
     "evalue": "'<' not supported between instances of 'list' and 'int'",
     "output_type": "error",
     "traceback": [
      "\u001b[0;31m---------------------------------------------------------------------------\u001b[0m",
      "\u001b[0;31mTypeError\u001b[0m                                 Traceback (most recent call last)",
      "\u001b[0;32m<ipython-input-120-816cce84b257>\u001b[0m in \u001b[0;36m<module>\u001b[0;34m\u001b[0m\n\u001b[0;32m----> 1\u001b[0;31m \u001b[0mf\u001b[0m\u001b[0;34m(\u001b[0m\u001b[0;34m[\u001b[0m\u001b[0;36m1\u001b[0m\u001b[0;34m,\u001b[0m\u001b[0;36m2\u001b[0m\u001b[0;34m,\u001b[0m\u001b[0;36m3\u001b[0m\u001b[0;34m]\u001b[0m\u001b[0;34m)\u001b[0m\u001b[0;34m\u001b[0m\u001b[0;34m\u001b[0m\u001b[0m\n\u001b[0m",
      "\u001b[0;32m<ipython-input-118-de8cb0eec37e>\u001b[0m in \u001b[0;36mf\u001b[0;34m(x)\u001b[0m\n\u001b[1;32m      1\u001b[0m \u001b[0;32mdef\u001b[0m \u001b[0mf\u001b[0m\u001b[0;34m(\u001b[0m\u001b[0mx\u001b[0m\u001b[0;34m)\u001b[0m\u001b[0;34m:\u001b[0m\u001b[0;34m\u001b[0m\u001b[0;34m\u001b[0m\u001b[0m\n\u001b[0;32m----> 2\u001b[0;31m     \u001b[0;32mif\u001b[0m \u001b[0mx\u001b[0m \u001b[0;34m<\u001b[0m \u001b[0;36m0\u001b[0m\u001b[0;34m:\u001b[0m\u001b[0;34m\u001b[0m\u001b[0;34m\u001b[0m\u001b[0m\n\u001b[0m\u001b[1;32m      3\u001b[0m         \u001b[0;32mreturn\u001b[0m \u001b[0;34m-\u001b[0m\u001b[0;36m1\u001b[0m\u001b[0;34m\u001b[0m\u001b[0;34m\u001b[0m\u001b[0m\n\u001b[1;32m      4\u001b[0m     \u001b[0;32melse\u001b[0m\u001b[0;34m:\u001b[0m\u001b[0;34m\u001b[0m\u001b[0;34m\u001b[0m\u001b[0m\n\u001b[1;32m      5\u001b[0m         \u001b[0;32mreturn\u001b[0m \u001b[0;36m1\u001b[0m\u001b[0;34m\u001b[0m\u001b[0;34m\u001b[0m\u001b[0m\n",
      "\u001b[0;31mTypeError\u001b[0m: '<' not supported between instances of 'list' and 'int'"
     ]
    }
   ],
   "source": [
    "f([1,2,3])"
   ]
  },
  {
   "cell_type": "code",
   "execution_count": 121,
   "id": "163d17a0",
   "metadata": {},
   "outputs": [],
   "source": [
    "f_vec = np.vectorize(f)"
   ]
  },
  {
   "cell_type": "code",
   "execution_count": 122,
   "id": "c5082512",
   "metadata": {},
   "outputs": [
    {
     "data": {
      "text/plain": [
       "array([1, 1, 1])"
      ]
     },
     "execution_count": 122,
     "metadata": {},
     "output_type": "execute_result"
    }
   ],
   "source": [
    "f_vec([1,2,3])"
   ]
  }
 ],
 "metadata": {
  "kernelspec": {
   "display_name": "Python 3",
   "language": "python",
   "name": "python3"
  },
  "language_info": {
   "codemirror_mode": {
    "name": "ipython",
    "version": 3
   },
   "file_extension": ".py",
   "mimetype": "text/x-python",
   "name": "python",
   "nbconvert_exporter": "python",
   "pygments_lexer": "ipython3",
   "version": "3.9.5"
  }
 },
 "nbformat": 4,
 "nbformat_minor": 5
}
