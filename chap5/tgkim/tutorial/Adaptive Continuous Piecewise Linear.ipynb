{
 "cells": [
  {
   "cell_type": "code",
   "execution_count": 1,
   "id": "a7e8a347",
   "metadata": {},
   "outputs": [],
   "source": [
    "import numpy as np\n",
    "import matplotlib.pyplot as plt"
   ]
  },
  {
   "cell_type": "markdown",
   "id": "0db2b52d",
   "metadata": {},
   "source": [
    "## Problem in Statsmodel"
   ]
  },
  {
   "cell_type": "code",
   "execution_count": 2,
   "id": "06d43983",
   "metadata": {},
   "outputs": [],
   "source": [
    "import statsmodels.api as sm"
   ]
  },
  {
   "cell_type": "code",
   "execution_count": 3,
   "id": "e5f18e6a",
   "metadata": {},
   "outputs": [],
   "source": [
    "X = np.array([[1, 2], [3, 4]])"
   ]
  },
  {
   "cell_type": "code",
   "execution_count": 4,
   "id": "dcc0f33a",
   "metadata": {},
   "outputs": [
    {
     "data": {
      "text/plain": [
       "array([[1, 2],\n",
       "       [3, 4]])"
      ]
     },
     "execution_count": 4,
     "metadata": {},
     "output_type": "execute_result"
    }
   ],
   "source": [
    "X"
   ]
  },
  {
   "cell_type": "code",
   "execution_count": 5,
   "id": "7cbf2533",
   "metadata": {},
   "outputs": [
    {
     "data": {
      "text/plain": [
       "array([[1., 1., 2.],\n",
       "       [1., 3., 4.]])"
      ]
     },
     "execution_count": 5,
     "metadata": {},
     "output_type": "execute_result"
    }
   ],
   "source": [
    "sm.add_constant(X)"
   ]
  },
  {
   "cell_type": "code",
   "execution_count": 6,
   "id": "beb2fd17",
   "metadata": {},
   "outputs": [],
   "source": [
    "Y = np.array([[1]])"
   ]
  },
  {
   "cell_type": "code",
   "execution_count": 7,
   "id": "51812d8d",
   "metadata": {},
   "outputs": [
    {
     "data": {
      "text/plain": [
       "array([[1]])"
      ]
     },
     "execution_count": 7,
     "metadata": {},
     "output_type": "execute_result"
    }
   ],
   "source": [
    "Y"
   ]
  },
  {
   "cell_type": "code",
   "execution_count": 8,
   "id": "306d0509",
   "metadata": {},
   "outputs": [
    {
     "data": {
      "text/plain": [
       "array([[1]])"
      ]
     },
     "execution_count": 8,
     "metadata": {},
     "output_type": "execute_result"
    }
   ],
   "source": [
    "sm.add_constant(Y)"
   ]
  },
  {
   "cell_type": "code",
   "execution_count": 9,
   "id": "7fb02b8b",
   "metadata": {},
   "outputs": [],
   "source": [
    "bias = np.ones(Y.shape[0])\n",
    "Y = np.column_stack([bias, Y])"
   ]
  },
  {
   "cell_type": "code",
   "execution_count": 10,
   "id": "61be7f1a",
   "metadata": {},
   "outputs": [
    {
     "data": {
      "text/plain": [
       "array([[1., 1.]])"
      ]
     },
     "execution_count": 10,
     "metadata": {},
     "output_type": "execute_result"
    }
   ],
   "source": [
    "Y"
   ]
  },
  {
   "cell_type": "markdown",
   "id": "93cfc437",
   "metadata": {},
   "source": [
    "## Continuous Piecewise Linear"
   ]
  },
  {
   "cell_type": "code",
   "execution_count": 11,
   "id": "05d1aadb",
   "metadata": {},
   "outputs": [],
   "source": [
    "def find_beta(features, response):\n",
    "    X = features\n",
    "    y = response\n",
    "    return np.linalg.pinv(X) @ y\n",
    "\n",
    "def relu(x, xi):\n",
    "    return np.maximum(x-xi, 0)\n",
    "\n",
    "def rss(y, y_hat):\n",
    "    return np.sum((y - y_hat)**2)"
   ]
  },
  {
   "cell_type": "code",
   "execution_count": 12,
   "id": "d5a989bb",
   "metadata": {},
   "outputs": [],
   "source": [
    "def gen_features(x, nodes):\n",
    "    bias = np.ones(x.shape[0])\n",
    "    X = np.column_stack([bias, x])                         # [1 | x]\n",
    "    bases = np.column_stack([relu(x, xi) for xi in nodes]) # [(x-xi_1) | (x-xi_2) | ... ]\n",
    "    return np.column_stack([X, bases])"
   ]
  },
  {
   "cell_type": "code",
   "execution_count": 13,
   "id": "83c367ec",
   "metadata": {},
   "outputs": [],
   "source": [
    "def continuous_piecewise_linear(data, nodes):\n",
    "    X = gen_features(data[:,0], nodes)\n",
    "    y = data[:,1]\n",
    "    \n",
    "    # OLS\n",
    "    beta = find_beta(X, y)\n",
    "\n",
    "    def cpl(x, nodes=nodes):\n",
    "        X2 = gen_features(x, nodes)\n",
    "        y = X2 @ beta\n",
    "\n",
    "        return y\n",
    "\n",
    "    return cpl"
   ]
  },
  {
   "cell_type": "code",
   "execution_count": 22,
   "id": "f0cdc424",
   "metadata": {},
   "outputs": [],
   "source": [
    "x = np.arange(0, 10, 0.1)\n",
    "y = np.sin(x) + 0.1 * np.random.randn(len(x))\n",
    "data = np.column_stack([x, y])\n",
    "\n",
    "nodes = np.arange(1, 10, 1)\n",
    "\n",
    "cpl = continuous_piecewise_linear(data, nodes)"
   ]
  },
  {
   "cell_type": "code",
   "execution_count": 23,
   "id": "f6e6abf7",
   "metadata": {},
   "outputs": [
    {
     "data": {
      "text/plain": [
       "[<matplotlib.lines.Line2D at 0x7f3a97685190>]"
      ]
     },
     "execution_count": 23,
     "metadata": {},
     "output_type": "execute_result"
    },
    {
     "data": {
      "image/png": "[encoded data removed]",
      "text/plain": [
       "<Figure size 432x288 with 1 Axes>"
      ]
     },
     "metadata": {
      "needs_background": "light"
     },
     "output_type": "display_data"
    }
   ],
   "source": [
    "plt.scatter(x, y)\n",
    "plt.plot(x, cpl(x))"
   ]
  },
  {
   "cell_type": "markdown",
   "id": "065590c1",
   "metadata": {},
   "source": [
    "## Adaptive CPL"
   ]
  },
  {
   "cell_type": "markdown",
   "id": "ad6ea4f6",
   "metadata": {},
   "source": [
    "### Separate Data"
   ]
  },
  {
   "cell_type": "code",
   "execution_count": 90,
   "id": "ba779a6f",
   "metadata": {},
   "outputs": [],
   "source": [
    "new_nodes = np.empty((len(nodes)+1, 2))\n",
    "new_nodes[0] = (0, nodes[0])\n",
    "new_nodes[-1] = (nodes[-1], 10)\n",
    "for i in range(1, len(nodes)):\n",
    "    new_nodes[i] = (nodes[i-1], nodes[i])"
   ]
  },
  {
   "cell_type": "code",
   "execution_count": 91,
   "id": "337b46d6",
   "metadata": {},
   "outputs": [
    {
     "data": {
      "text/plain": [
       "array([[ 0.,  1.],\n",
       "       [ 1.,  2.],\n",
       "       [ 2.,  3.],\n",
       "       [ 3.,  4.],\n",
       "       [ 4.,  5.],\n",
       "       [ 5.,  6.],\n",
       "       [ 6.,  7.],\n",
       "       [ 7.,  8.],\n",
       "       [ 8.,  9.],\n",
       "       [ 9., 10.]])"
      ]
     },
     "execution_count": 91,
     "metadata": {},
     "output_type": "execute_result"
    }
   ],
   "source": [
    "new_nodes"
   ]
  },
  {
   "cell_type": "code",
   "execution_count": 92,
   "id": "8673c26a",
   "metadata": {},
   "outputs": [],
   "source": [
    "splitted_data = []\n",
    "for (a, b) in new_nodes:\n",
    "    splitted_data.append( data[(data[:,0] >= a) & (data[:,0] < b), :] )"
   ]
  },
  {
   "cell_type": "code",
   "execution_count": 93,
   "id": "5c87466c",
   "metadata": {},
   "outputs": [],
   "source": [
    "rss_vec = np.empty(len(new_nodes))\n",
    "\n",
    "for (i, spd) in enumerate(splitted_data):\n",
    "    rss_vec[i] = rss(cpl(spd[:,0]), spd[:,1])"
   ]
  },
  {
   "cell_type": "code",
   "execution_count": 94,
   "id": "49f0dc4c",
   "metadata": {},
   "outputs": [
    {
     "data": {
      "text/plain": [
       "array([0.07029391, 0.21957807, 0.13946216, 0.12484506, 0.08168505,\n",
       "       0.1612294 , 0.08567109, 0.08610227, 0.11153215, 0.10740752])"
      ]
     },
     "execution_count": 94,
     "metadata": {},
     "output_type": "execute_result"
    }
   ],
   "source": [
    "rss_vec"
   ]
  },
  {
   "cell_type": "code",
   "execution_count": 95,
   "id": "cd4935c7",
   "metadata": {},
   "outputs": [
    {
     "data": {
      "text/plain": [
       "0.11878066759933684"
      ]
     },
     "execution_count": 95,
     "metadata": {},
     "output_type": "execute_result"
    }
   ],
   "source": [
    "mean_rss = np.mean(rss_vec)\n",
    "mean_rss"
   ]
  },
  {
   "cell_type": "code",
   "execution_count": 96,
   "id": "eff15f13",
   "metadata": {},
   "outputs": [
    {
     "data": {
      "text/plain": [
       "array([1, 2, 3, 5])"
      ]
     },
     "execution_count": 96,
     "metadata": {},
     "output_type": "execute_result"
    }
   ],
   "source": [
    "np.where(rss_vec > mean_rss)[0]"
   ]
  },
  {
   "cell_type": "code",
   "execution_count": 97,
   "id": "f1d23b7a",
   "metadata": {},
   "outputs": [],
   "source": [
    "idx = np.where(rss_vec > mean_rss)[0]"
   ]
  },
  {
   "cell_type": "code",
   "execution_count": 98,
   "id": "343e3eee",
   "metadata": {},
   "outputs": [],
   "source": [
    "offset = 1\n",
    "\n",
    "for i in idx:\n",
    "    (a,b) = new_nodes[i+offset-1]\n",
    "    (a,b,c) = np.linspace(a, b, 3)\n",
    "    new_nodes[i+offset-1] = (a,b)\n",
    "    new_nodes = np.insert(new_nodes, i+offset, (b, c), axis=0)\n",
    "    offset += 1"
   ]
  },
  {
   "cell_type": "code",
   "execution_count": 99,
   "id": "83893954",
   "metadata": {},
   "outputs": [
    {
     "data": {
      "text/plain": [
       "array([[ 0. ,  1. ],\n",
       "       [ 1. ,  1.5],\n",
       "       [ 1.5,  2. ],\n",
       "       [ 2. ,  2.5],\n",
       "       [ 2.5,  3. ],\n",
       "       [ 3. ,  3.5],\n",
       "       [ 3.5,  4. ],\n",
       "       [ 4. ,  5. ],\n",
       "       [ 5. ,  5.5],\n",
       "       [ 5.5,  6. ],\n",
       "       [ 6. ,  7. ],\n",
       "       [ 7. ,  8. ],\n",
       "       [ 8. ,  9. ],\n",
       "       [ 9. , 10. ]])"
      ]
     },
     "execution_count": 99,
     "metadata": {},
     "output_type": "execute_result"
    }
   ],
   "source": [
    "new_nodes"
   ]
  },
  {
   "cell_type": "code",
   "execution_count": 100,
   "id": "7508b0af",
   "metadata": {},
   "outputs": [],
   "source": [
    "splitted_data2 = []\n",
    "for (a, b) in new_nodes:\n",
    "    splitted_data2.append( data[(data[:,0] >= a) & (data[:,0] < b), :] )"
   ]
  },
  {
   "cell_type": "code",
   "execution_count": 101,
   "id": "6fe7b91d",
   "metadata": {},
   "outputs": [],
   "source": [
    "cpl = continuous_piecewise_linear(data, new_nodes[1:,0])\n",
    "rss_vec2 = np.empty(len(new_nodes))\n",
    "\n",
    "for (i, spd) in enumerate(splitted_data2):\n",
    "    rss_vec2[i] = rss(cpl(spd[:,0]), spd[:,1])"
   ]
  },
  {
   "cell_type": "code",
   "execution_count": 102,
   "id": "5f777d2d",
   "metadata": {},
   "outputs": [
    {
     "data": {
      "text/plain": [
       "array([0.07272811, 0.02770234, 0.10921907, 0.02864618, 0.00560143,\n",
       "       0.04459957, 0.05032366, 0.08514725, 0.13776576, 0.01631704,\n",
       "       0.08614178, 0.08760059, 0.1119267 , 0.10740869])"
      ]
     },
     "execution_count": 102,
     "metadata": {},
     "output_type": "execute_result"
    }
   ],
   "source": [
    "rss_vec2"
   ]
  },
  {
   "cell_type": "code",
   "execution_count": 103,
   "id": "c55df179",
   "metadata": {},
   "outputs": [],
   "source": [
    "idx = np.where(rss_vec2 > mean_rss)[0]"
   ]
  },
  {
   "cell_type": "code",
   "execution_count": 104,
   "id": "557566b8",
   "metadata": {},
   "outputs": [
    {
     "data": {
      "text/plain": [
       "array([8])"
      ]
     },
     "execution_count": 104,
     "metadata": {},
     "output_type": "execute_result"
    }
   ],
   "source": [
    "idx"
   ]
  },
  {
   "cell_type": "code",
   "execution_count": 106,
   "id": "7c5f59cd",
   "metadata": {},
   "outputs": [],
   "source": [
    "while len(idx) > 0:\n",
    "    offset = 1\n",
    "\n",
    "    for i in idx:\n",
    "        (a,b) = new_nodes[i+offset-1]\n",
    "        (a,b,c) = np.linspace(a, b, 3)\n",
    "        new_nodes[i+offset-1] = (a,b)\n",
    "        new_nodes = np.insert(new_nodes, i+offset, (b, c), axis=0)\n",
    "        offset += 1\n",
    "    \n",
    "    splitted_data = []\n",
    "    for (a, b) in new_nodes:\n",
    "        splitted_data.append( data[(data[:,0] >= a) & (data[:,0] < b), :] )\n",
    "    \n",
    "    cpl = continuous_piecewise_linear(data, new_nodes[1:,0])\n",
    "    rss_vec = np.empty(len(new_nodes))\n",
    "\n",
    "    for (i, spd) in enumerate(splitted_data):\n",
    "        rss_vec[i] = rss(cpl(spd[:,0]), spd[:,1])\n",
    "        \n",
    "    idx = np.where(rss_vec > mean_rss)[0]"
   ]
  },
  {
   "cell_type": "code",
   "execution_count": 107,
   "id": "bfb40c20",
   "metadata": {},
   "outputs": [
    {
     "data": {
      "text/plain": [
       "array([[ 0.  ,  1.  ],\n",
       "       [ 1.  ,  1.5 ],\n",
       "       [ 1.5 ,  2.  ],\n",
       "       [ 2.  ,  2.5 ],\n",
       "       [ 2.5 ,  3.  ],\n",
       "       [ 3.  ,  3.5 ],\n",
       "       [ 3.5 ,  4.  ],\n",
       "       [ 4.  ,  5.  ],\n",
       "       [ 5.  ,  5.25],\n",
       "       [ 5.25,  5.5 ],\n",
       "       [ 5.5 ,  6.  ],\n",
       "       [ 6.  ,  7.  ],\n",
       "       [ 7.  ,  8.  ],\n",
       "       [ 8.  ,  9.  ],\n",
       "       [ 9.  , 10.  ]])"
      ]
     },
     "execution_count": 107,
     "metadata": {},
     "output_type": "execute_result"
    }
   ],
   "source": [
    "new_nodes"
   ]
  },
  {
   "cell_type": "code",
   "execution_count": 111,
   "id": "2d84b0da",
   "metadata": {},
   "outputs": [
    {
     "data": {
      "text/plain": [
       "array([1.  , 1.5 , 2.  , 2.5 , 3.  , 3.5 , 4.  , 5.  , 5.25, 5.5 , 6.  ,\n",
       "       7.  , 8.  , 9.  ])"
      ]
     },
     "execution_count": 111,
     "metadata": {},
     "output_type": "execute_result"
    }
   ],
   "source": [
    "new_nodes[1:, 0]"
   ]
  },
  {
   "cell_type": "code",
   "execution_count": 112,
   "id": "051c2b0d",
   "metadata": {},
   "outputs": [
    {
     "data": {
      "image/png": "[encoded data removed]",
      "text/plain": [
       "<Figure size 1200x720 with 1 Axes>"
      ]
     },
     "metadata": {
      "needs_background": "light"
     },
     "output_type": "display_data"
    }
   ],
   "source": [
    "plt.figure(figsize=(10, 6), dpi=120)\n",
    "plt.scatter(x, y, alpha=0.2)\n",
    "plt.plot(x, cpl(x), color='red')\n",
    "plt.show()"
   ]
  },
  {
   "cell_type": "code",
   "execution_count": null,
   "id": "f5a68aa3",
   "metadata": {},
   "outputs": [],
   "source": []
  }
 ],
 "metadata": {
  "kernelspec": {
   "display_name": "Python 3",
   "language": "python",
   "name": "python3"
  },
  "language_info": {
   "codemirror_mode": {
    "name": "ipython",
    "version": 3
   },
   "file_extension": ".py",
   "mimetype": "text/x-python",
   "name": "python",
   "nbconvert_exporter": "python",
   "pygments_lexer": "ipython3",
   "version": "3.9.6"
  }
 },
 "nbformat": 4,
 "nbformat_minor": 5
}
