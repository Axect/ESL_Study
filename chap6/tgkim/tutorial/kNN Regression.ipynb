{
 "cells": [
  {
   "cell_type": "code",
   "execution_count": 1,
   "id": "39e8797a",
   "metadata": {},
   "outputs": [],
   "source": [
    "import numpy as np\n",
    "import matplotlib.pyplot as plt"
   ]
  },
  {
   "cell_type": "markdown",
   "id": "3682845e",
   "metadata": {},
   "source": [
    "$$y = \\text{Ave}(y_i|x_i \\in N(x))$$"
   ]
  },
  {
   "cell_type": "code",
   "execution_count": 2,
   "id": "32a68ffe",
   "metadata": {},
   "outputs": [],
   "source": [
    "x = np.random.rand(10)\n",
    "y = np.sin(x) + np.random.randn(10)"
   ]
  },
  {
   "cell_type": "code",
   "execution_count": 3,
   "id": "46e2ad8a",
   "metadata": {},
   "outputs": [
    {
     "data": {
      "text/plain": [
       "array([0.94171164, 0.33673618, 0.29375163, 0.2016054 , 0.89312887,\n",
       "       0.93072225, 0.01814997, 0.01668318, 0.6127004 , 0.0451487 ])"
      ]
     },
     "execution_count": 3,
     "metadata": {},
     "output_type": "execute_result"
    }
   ],
   "source": [
    "x"
   ]
  },
  {
   "cell_type": "code",
   "execution_count": 4,
   "id": "56951157",
   "metadata": {},
   "outputs": [
    {
     "data": {
      "text/plain": [
       "[<matplotlib.lines.Line2D at 0x7f9ad0762b80>]"
      ]
     },
     "execution_count": 4,
     "metadata": {},
     "output_type": "execute_result"
    },
    {
     "data": {
      "image/png": "[encoded data removed]",
      "text/plain": [
       "<Figure size 432x288 with 1 Axes>"
      ]
     },
     "metadata": {
      "needs_background": "light"
     },
     "output_type": "display_data"
    }
   ],
   "source": [
    "plt.plot(x,y, '.')"
   ]
  },
  {
   "cell_type": "code",
   "execution_count": 5,
   "id": "b22352fa",
   "metadata": {},
   "outputs": [],
   "source": [
    "p = 0.6"
   ]
  },
  {
   "cell_type": "code",
   "execution_count": 6,
   "id": "8fb8fc6b",
   "metadata": {},
   "outputs": [],
   "source": [
    "dist = np.fabs(x - p)"
   ]
  },
  {
   "cell_type": "code",
   "execution_count": 7,
   "id": "0a5b728a",
   "metadata": {},
   "outputs": [
    {
     "data": {
      "text/plain": [
       "array([0.34171164, 0.26326382, 0.30624837, 0.3983946 , 0.29312887,\n",
       "       0.33072225, 0.58185003, 0.58331682, 0.0127004 , 0.5548513 ])"
      ]
     },
     "execution_count": 7,
     "metadata": {},
     "output_type": "execute_result"
    }
   ],
   "source": [
    "dist"
   ]
  },
  {
   "cell_type": "code",
   "execution_count": 8,
   "id": "3c04b803",
   "metadata": {},
   "outputs": [
    {
     "data": {
      "text/plain": [
       "array([8, 1, 4, 2, 5, 0, 3, 9, 6, 7])"
      ]
     },
     "execution_count": 8,
     "metadata": {},
     "output_type": "execute_result"
    }
   ],
   "source": [
    "np.argsort(dist)"
   ]
  },
  {
   "cell_type": "code",
   "execution_count": 9,
   "id": "fd3c2247",
   "metadata": {},
   "outputs": [],
   "source": [
    "def knn(arr, x, k):\n",
    "    dist = np.fabs(arr - x)\n",
    "    idx = np.argsort(dist)\n",
    "    return idx[:k]\n",
    "\n",
    "def gen_knn_average(data, k):\n",
    "    def knn_average(x):\n",
    "        idx = knn(data[:,0], x ,k)\n",
    "        ave = np.mean(np.take(data[:,1], idx))\n",
    "        return ave\n",
    "    return knn_average"
   ]
  },
  {
   "cell_type": "code",
   "execution_count": 10,
   "id": "7a77d5d7",
   "metadata": {},
   "outputs": [
    {
     "data": {
      "text/plain": [
       "array([0.94171164, 0.33673618, 0.29375163, 0.2016054 , 0.89312887,\n",
       "       0.93072225, 0.01814997, 0.01668318, 0.6127004 , 0.0451487 ])"
      ]
     },
     "execution_count": 10,
     "metadata": {},
     "output_type": "execute_result"
    }
   ],
   "source": [
    "x"
   ]
  },
  {
   "cell_type": "code",
   "execution_count": 11,
   "id": "e21015df",
   "metadata": {},
   "outputs": [
    {
     "data": {
      "text/plain": [
       "array([ 2.96171938,  1.14994356,  1.48213481, -0.13411861,  1.04636149,\n",
       "        2.1171718 ,  0.75319733, -0.00919906,  0.29211097, -0.03416868])"
      ]
     },
     "execution_count": 11,
     "metadata": {},
     "output_type": "execute_result"
    }
   ],
   "source": [
    "y"
   ]
  },
  {
   "cell_type": "code",
   "execution_count": 12,
   "id": "8b34b247",
   "metadata": {},
   "outputs": [],
   "source": [
    "f = gen_knn_average(np.column_stack([x, y]), 3)"
   ]
  },
  {
   "cell_type": "code",
   "execution_count": 13,
   "id": "8a426bf5",
   "metadata": {},
   "outputs": [],
   "source": [
    "f = np.vectorize(f)"
   ]
  },
  {
   "cell_type": "code",
   "execution_count": 14,
   "id": "fd112ae9",
   "metadata": {},
   "outputs": [
    {
     "data": {
      "text/plain": [
       "[<matplotlib.lines.Line2D at 0x7f9ace5e7790>]"
      ]
     },
     "execution_count": 14,
     "metadata": {},
     "output_type": "execute_result"
    },
    {
     "data": {
      "image/png": "[encoded data removed]",
      "text/plain": [
       "<Figure size 432x288 with 1 Axes>"
      ]
     },
     "metadata": {
      "needs_background": "light"
     },
     "output_type": "display_data"
    }
   ],
   "source": [
    "plt.plot(x, y, 'ro')\n",
    "plt.plot(np.arange(0,1,0.01), f(np.arange(0, 1, 0.01)), 'g-')"
   ]
  },
  {
   "cell_type": "code",
   "execution_count": 15,
   "id": "9566f200",
   "metadata": {},
   "outputs": [],
   "source": [
    "def gaussian_kernel(lam, x0, x):\n",
    "    t = np.fabs(x0 - x) / lam\n",
    "    return np.exp(-t**2 / 2)"
   ]
  },
  {
   "cell_type": "code",
   "execution_count": 16,
   "id": "54e8a46d",
   "metadata": {},
   "outputs": [],
   "source": [
    "def gen_nadaraya_watson(data, kernel, lam):\n",
    "    def nadaraya_watson(x):\n",
    "        def evaluation_kernel(x_i):\n",
    "            return kernel(lam, x, x_i)\n",
    "\n",
    "        denominator = np.sum([evaluation_kernel(x_i) for x_i in data[:,0]])\n",
    "        numerator = np.sum([evaluation_kernel(x_i) * y_i for (x_i, y_i) in data])\n",
    "\n",
    "        return numerator / denominator\n",
    "    return nadaraya_watson"
   ]
  },
  {
   "cell_type": "code",
   "execution_count": 17,
   "id": "11339e5e",
   "metadata": {},
   "outputs": [],
   "source": [
    "data = np.column_stack([x, y])\n",
    "domain = np.arange(0, 1, 0.01)"
   ]
  },
  {
   "cell_type": "code",
   "execution_count": 18,
   "id": "60c3a090",
   "metadata": {},
   "outputs": [],
   "source": [
    "g = gen_nadaraya_watson(data, gaussian_kernel, 0.1)"
   ]
  },
  {
   "cell_type": "code",
   "execution_count": 19,
   "id": "315c8a2d",
   "metadata": {},
   "outputs": [],
   "source": [
    "g = np.vectorize(g)"
   ]
  },
  {
   "cell_type": "code",
   "execution_count": 20,
   "id": "1295edfc",
   "metadata": {},
   "outputs": [
    {
     "data": {
      "text/plain": [
       "[<matplotlib.lines.Line2D at 0x7f9ace567550>]"
      ]
     },
     "execution_count": 20,
     "metadata": {},
     "output_type": "execute_result"
    },
    {
     "data": {
      "image/png": "[encoded data removed]",
      "text/plain": [
       "<Figure size 432x288 with 1 Axes>"
      ]
     },
     "metadata": {
      "needs_background": "light"
     },
     "output_type": "display_data"
    }
   ],
   "source": [
    "plt.plot(x, y, 'bo')\n",
    "plt.plot(domain, g(domain), 'r-')\n",
    "plt.plot(domain, f(domain), 'g-')"
   ]
  }
 ],
 "metadata": {
  "kernelspec": {
   "display_name": "Python 3",
   "language": "python",
   "name": "python3"
  },
  "language_info": {
   "codemirror_mode": {
    "name": "ipython",
    "version": 3
   },
   "file_extension": ".py",
   "mimetype": "text/x-python",
   "name": "python",
   "nbconvert_exporter": "python",
   "pygments_lexer": "ipython3",
   "version": "3.9.6"
  }
 },
 "nbformat": 4,
 "nbformat_minor": 5
}
