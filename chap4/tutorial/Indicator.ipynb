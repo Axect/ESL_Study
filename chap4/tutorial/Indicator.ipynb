{
 "cells": [
  {
   "cell_type": "code",
   "execution_count": 1,
   "id": "70be58ac",
   "metadata": {},
   "outputs": [],
   "source": [
    "import numpy as np\n",
    "import matplotlib.pyplot as plt\n",
    "import statsmodels.api as sm"
   ]
  },
  {
   "cell_type": "code",
   "execution_count": 3,
   "id": "1016ad80",
   "metadata": {},
   "outputs": [],
   "source": [
    "def find_beta_hat(X, y):\n",
    "    return np.linalg.pinv(X) * y\n",
    "\n",
    "def find_y_hat(X, beta):\n",
    "    return X * beta\n",
    "\n",
    "def find_G_hat(y_hat):\n",
    "    return np.argmax(y_hat, axis=1)"
   ]
  },
  {
   "cell_type": "markdown",
   "id": "57126666",
   "metadata": {},
   "source": [
    "### For the binary classification\n",
    "\n",
    "* N = 100\n",
    "* K = 2"
   ]
  },
  {
   "cell_type": "code",
   "execution_count": 19,
   "id": "f4bab372",
   "metadata": {},
   "outputs": [],
   "source": [
    "Y1 = np.matrix([1, 0, 0])\n",
    "Y2 = np.matrix([0, 1, 0])\n",
    "Y3 = np.matrix([0, 0, 1])\n",
    "Y1 = np.tile(Y1, (40, 1))\n",
    "Y2 = np.tile(Y2, (30, 1))\n",
    "Y3 = np.tile(Y3, (30, 1))"
   ]
  },
  {
   "cell_type": "code",
   "execution_count": 25,
   "id": "5baf3b10",
   "metadata": {},
   "outputs": [
    {
     "data": {
      "text/plain": [
       "(100, 3)"
      ]
     },
     "execution_count": 25,
     "metadata": {},
     "output_type": "execute_result"
    }
   ],
   "source": [
    "Y = np.vstack([Y1, Y2, Y3])\n",
    "Y.shape"
   ]
  },
  {
   "cell_type": "code",
   "execution_count": 196,
   "id": "0613914c",
   "metadata": {},
   "outputs": [],
   "source": [
    "feature = np.arange(0, 2)\n",
    "np.random.seed(15)\n",
    "x1 = np.random.normal(0.8, 0.1, size=(40, len(feature)))\n",
    "x2_x = np.random.normal(1.0, 0.1, size=(30, 1))\n",
    "x2_y = np.random.normal(2.7, 0.2, size=(30, 1))\n",
    "x2 = np.column_stack([x2_x, x2_y])\n",
    "x3 = np.random.normal(2.0, 0.15, size=(30, len(feature)))"
   ]
  },
  {
   "cell_type": "code",
   "execution_count": 197,
   "id": "7d6d722b",
   "metadata": {},
   "outputs": [
    {
     "data": {
      "text/plain": [
       "(100, 3)"
      ]
     },
     "execution_count": 197,
     "metadata": {},
     "output_type": "execute_result"
    }
   ],
   "source": [
    "X = np.vstack([x1, x2, x3])\n",
    "Xb = sm.add_constant(X)\n",
    "Xb.shape"
   ]
  },
  {
   "cell_type": "code",
   "execution_count": 198,
   "id": "3957199c",
   "metadata": {},
   "outputs": [
    {
     "data": {
      "image/png": "[encoded data removed]",
      "text/plain": [
       "<Figure size 432x288 with 1 Axes>"
      ]
     },
     "metadata": {
      "needs_background": "light"
     },
     "output_type": "display_data"
    }
   ],
   "source": [
    "plt.scatter(x1[:,0], x1[:,1])\n",
    "plt.scatter(x2[:,0], x2[:,1])\n",
    "plt.scatter(x3[:,0], x3[:,1])\n",
    "plt.show()"
   ]
  },
  {
   "cell_type": "code",
   "execution_count": 199,
   "id": "92e14f74",
   "metadata": {},
   "outputs": [
    {
     "data": {
      "text/plain": [
       "matrix([[ 1.6394669 ,  0.03004966, -0.66951656],\n",
       "        [-0.36250781, -0.56896018,  0.93146799],\n",
       "        [-0.46381203,  0.55457754, -0.09076551]])"
      ]
     },
     "execution_count": 199,
     "metadata": {},
     "output_type": "execute_result"
    }
   ],
   "source": [
    "beta_hat = find_beta_hat(Xb, Y)\n",
    "beta_hat"
   ]
  },
  {
   "cell_type": "code",
   "execution_count": 200,
   "id": "613984ce",
   "metadata": {},
   "outputs": [],
   "source": [
    "y_hat = find_y_hat(Xb, beta_hat)\n",
    "G_hat = find_G_hat(y_hat)"
   ]
  },
  {
   "cell_type": "code",
   "execution_count": 201,
   "id": "e5125ebc",
   "metadata": {},
   "outputs": [
    {
     "data": {
      "text/plain": [
       "matrix([[ 0.97399675,  0.05512976, -0.0291265 ]])"
      ]
     },
     "execution_count": 201,
     "metadata": {},
     "output_type": "execute_result"
    }
   ],
   "source": [
    "y_hat[0]"
   ]
  },
  {
   "cell_type": "code",
   "execution_count": 202,
   "id": "957e7cc6",
   "metadata": {},
   "outputs": [
    {
     "data": {
      "text/plain": [
       "numpy.matrix"
      ]
     },
     "execution_count": 202,
     "metadata": {},
     "output_type": "execute_result"
    }
   ],
   "source": [
    "type(G_hat)"
   ]
  },
  {
   "cell_type": "code",
   "execution_count": 203,
   "id": "73f2896c",
   "metadata": {},
   "outputs": [
    {
     "data": {
      "text/plain": [
       "True"
      ]
     },
     "execution_count": 203,
     "metadata": {},
     "output_type": "execute_result"
    }
   ],
   "source": [
    "(G_hat == 0)[1,0]"
   ]
  },
  {
   "cell_type": "code",
   "execution_count": 204,
   "id": "3e6eb5b1",
   "metadata": {},
   "outputs": [],
   "source": [
    "idx1 = [i for i in range(100) if (G_hat == 0)[i,0]]\n",
    "idx2 = [i for i in range(100) if (G_hat == 1)[i,0]]\n",
    "idx3 = [i for i in range(100) if (G_hat == 2)[i,0]]"
   ]
  },
  {
   "cell_type": "code",
   "execution_count": 205,
   "id": "1300b72e",
   "metadata": {},
   "outputs": [],
   "source": [
    "new_x_1 = X[idx1]\n",
    "new_x_2 = X[idx2]\n",
    "new_x_3 = X[idx3]"
   ]
  },
  {
   "cell_type": "code",
   "execution_count": 206,
   "id": "847c5855",
   "metadata": {},
   "outputs": [
    {
     "data": {
      "image/png": "[encoded data removed]",
      "text/plain": [
       "<Figure size 432x288 with 1 Axes>"
      ]
     },
     "metadata": {
      "needs_background": "light"
     },
     "output_type": "display_data"
    }
   ],
   "source": [
    "plt.scatter(new_x_1[:,0], new_x_1[:,1])\n",
    "plt.scatter(new_x_2[:,0], new_x_2[:,1])\n",
    "plt.scatter(new_x_3[:,0], new_x_3[:,1])\n",
    "plt.show()"
   ]
  },
  {
   "cell_type": "markdown",
   "id": "4db24962",
   "metadata": {},
   "source": [
    "### Decision Boundary"
   ]
  },
  {
   "cell_type": "code",
   "execution_count": 207,
   "id": "c2ba1e8c",
   "metadata": {},
   "outputs": [],
   "source": [
    "xs = np.arange(0.6, 2.2, 0.001)\n",
    "ys = np.arange(0.5, 2.25, 0.001)"
   ]
  },
  {
   "cell_type": "code",
   "execution_count": 208,
   "id": "97c04e59",
   "metadata": {},
   "outputs": [],
   "source": [
    "b12 = []\n",
    "b23 = []\n",
    "b31 = []\n",
    "for x in xs:\n",
    "    for y in ys:\n",
    "        X_temp = np.matrix([[1, x, y]])\n",
    "        Y_temp = find_y_hat(X_temp, beta_hat)\n",
    "        if abs(Y_temp[0,0] - Y_temp[0,1]) < 1e-3:\n",
    "            b12.append([x, y])\n",
    "        elif abs(Y_temp[0,1] - Y_temp[0,2]) < 1e-3:\n",
    "            b23.append([x, y])\n",
    "        elif abs(Y_temp[0,2] - Y_temp[0,0]) < 1e-3:\n",
    "            b31.append([x, y])"
   ]
  },
  {
   "cell_type": "code",
   "execution_count": 209,
   "id": "b2600852",
   "metadata": {},
   "outputs": [],
   "source": [
    "b12 = np.matrix(b12)\n",
    "b23 = np.matrix(b23)\n",
    "b31 = np.matrix(b31)"
   ]
  },
  {
   "cell_type": "code",
   "execution_count": 210,
   "id": "7d0cc572",
   "metadata": {},
   "outputs": [
    {
     "data": {
      "image/png": "[encoded data removed]",
      "text/plain": [
       "<Figure size 432x288 with 1 Axes>"
      ]
     },
     "metadata": {
      "needs_background": "light"
     },
     "output_type": "display_data"
    }
   ],
   "source": [
    "plt.scatter(new_x_1[:,0], new_x_1[:,1], label=\"Group1\")\n",
    "plt.scatter(new_x_2[:,0], new_x_2[:,1], label=\"Group2\")\n",
    "plt.scatter(new_x_3[:,0], new_x_3[:,1], label=\"Group3\")\n",
    "plt.plot(b12[:,0], b12[:,1], label=\"Boundary(1,2)\")\n",
    "plt.plot(b23[:,0], b23[:,1], label=\"Boundary(2,3)\")\n",
    "plt.plot(b31[:,0], b31[:,1], label=\"Boundary(3,1)\")\n",
    "plt.legend()\n",
    "plt.show()"
   ]
  },
  {
   "cell_type": "code",
   "execution_count": null,
   "id": "bb471461",
   "metadata": {},
   "outputs": [],
   "source": []
  }
 ],
 "metadata": {
  "kernelspec": {
   "display_name": "Python 3",
   "language": "python",
   "name": "python3"
  },
  "language_info": {
   "codemirror_mode": {
    "name": "ipython",
    "version": 3
   },
   "file_extension": ".py",
   "mimetype": "text/x-python",
   "name": "python",
   "nbconvert_exporter": "python",
   "pygments_lexer": "ipython3",
   "version": "3.9.5"
  }
 },
 "nbformat": 4,
 "nbformat_minor": 5
}
